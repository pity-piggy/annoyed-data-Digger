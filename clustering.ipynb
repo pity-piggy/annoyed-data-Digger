{
 "cells": [
  {
   "cell_type": "code",
   "id": "initial_id",
   "metadata": {
    "collapsed": true,
    "ExecuteTime": {
     "end_time": "2024-11-17T15:25:50.919445Z",
     "start_time": "2024-11-17T15:25:50.884200Z"
    }
   },
   "source": [
    "import pandas as pd \n",
    "import numpy as np\n",
    "df=pd.read_csv('/Users/hexiaoyu/Desktop/Courses/INSY- DATA MINING/Utilities.csv')\n",
    "df"
   ],
   "outputs": [
    {
     "data": {
      "text/plain": [
       "         Company  Fixed_charge   RoR  Cost  Load_factor  Demand_growth  Sales  Nuclear  Fuel_Cost\n",
       "0       Arizona           1.06   9.2   151         54.4            1.6   9077      0.0      0.628\n",
       "1        Boston           0.89  10.3   202         57.9            2.2   5088     25.3      1.555\n",
       "2       Central           1.43  15.4   113         53.0            3.4   9212      0.0      1.058\n",
       "3   Commonwealth          1.02  11.2   168         56.0            0.3   6423     34.3      0.700\n",
       "4             NY          1.49   8.8   192         51.2            1.0   3300     15.6      2.044\n",
       "5       Florida           1.32  13.5   111         60.0           -2.2  11127     22.5      1.241\n",
       "6      Hawaiian           1.22  12.2   175         67.6            2.2   7642      0.0      1.652\n",
       "7          Idaho          1.10   9.2   245         57.0            3.3  13082      0.0      0.309\n",
       "8       Kentucky          1.34  13.0   168         60.4            7.2   8406      0.0      0.862\n",
       "9       Madison           1.12  12.4   197         53.0            2.7   6455     39.2      0.623\n",
       "10        Nevada          0.75   7.5   173         51.5            6.5  17441      0.0      0.768\n",
       "11   New England          1.13  10.9   178         62.0            3.7   6154      0.0      1.897\n",
       "12      Northern          1.15  12.7   199         53.7            6.4   7179     50.2      0.527\n",
       "13      Oklahoma          1.09  12.0    96         49.8            1.4   9673      0.0      0.588\n",
       "14      Pacific           0.96   7.6   164         62.2           -0.1   6468      0.9      1.400\n",
       "15         Puget          1.16   9.9   252         56.0            9.2  15991      0.0      0.620\n",
       "16     San Diego          0.76   6.4   136         61.9            9.0   5714      8.3      1.920\n",
       "17      Southern          1.05  12.6   150         56.7            2.7  10140      0.0      1.108\n",
       "18         Texas          1.16  11.7   104         54.0           -2.1  13507      0.0      0.636\n",
       "19     Wisconsin          1.20  11.8   148         59.9            3.5   7287     41.1      0.702\n",
       "20        United          1.04   8.6   204         61.0            3.5   6650      0.0      2.116\n",
       "21      Virginia          1.07   9.3   174         54.3            5.9  10093     26.6      1.306"
      ],
      "text/html": [
       "<div>\n",
       "<style scoped>\n",
       "    .dataframe tbody tr th:only-of-type {\n",
       "        vertical-align: middle;\n",
       "    }\n",
       "\n",
       "    .dataframe tbody tr th {\n",
       "        vertical-align: top;\n",
       "    }\n",
       "\n",
       "    .dataframe thead th {\n",
       "        text-align: right;\n",
       "    }\n",
       "</style>\n",
       "<table border=\"1\" class=\"dataframe\">\n",
       "  <thead>\n",
       "    <tr style=\"text-align: right;\">\n",
       "      <th></th>\n",
       "      <th>Company</th>\n",
       "      <th>Fixed_charge</th>\n",
       "      <th>RoR</th>\n",
       "      <th>Cost</th>\n",
       "      <th>Load_factor</th>\n",
       "      <th>Demand_growth</th>\n",
       "      <th>Sales</th>\n",
       "      <th>Nuclear</th>\n",
       "      <th>Fuel_Cost</th>\n",
       "    </tr>\n",
       "  </thead>\n",
       "  <tbody>\n",
       "    <tr>\n",
       "      <th>0</th>\n",
       "      <td>Arizona</td>\n",
       "      <td>1.06</td>\n",
       "      <td>9.2</td>\n",
       "      <td>151</td>\n",
       "      <td>54.4</td>\n",
       "      <td>1.6</td>\n",
       "      <td>9077</td>\n",
       "      <td>0.0</td>\n",
       "      <td>0.628</td>\n",
       "    </tr>\n",
       "    <tr>\n",
       "      <th>1</th>\n",
       "      <td>Boston</td>\n",
       "      <td>0.89</td>\n",
       "      <td>10.3</td>\n",
       "      <td>202</td>\n",
       "      <td>57.9</td>\n",
       "      <td>2.2</td>\n",
       "      <td>5088</td>\n",
       "      <td>25.3</td>\n",
       "      <td>1.555</td>\n",
       "    </tr>\n",
       "    <tr>\n",
       "      <th>2</th>\n",
       "      <td>Central</td>\n",
       "      <td>1.43</td>\n",
       "      <td>15.4</td>\n",
       "      <td>113</td>\n",
       "      <td>53.0</td>\n",
       "      <td>3.4</td>\n",
       "      <td>9212</td>\n",
       "      <td>0.0</td>\n",
       "      <td>1.058</td>\n",
       "    </tr>\n",
       "    <tr>\n",
       "      <th>3</th>\n",
       "      <td>Commonwealth</td>\n",
       "      <td>1.02</td>\n",
       "      <td>11.2</td>\n",
       "      <td>168</td>\n",
       "      <td>56.0</td>\n",
       "      <td>0.3</td>\n",
       "      <td>6423</td>\n",
       "      <td>34.3</td>\n",
       "      <td>0.700</td>\n",
       "    </tr>\n",
       "    <tr>\n",
       "      <th>4</th>\n",
       "      <td>NY</td>\n",
       "      <td>1.49</td>\n",
       "      <td>8.8</td>\n",
       "      <td>192</td>\n",
       "      <td>51.2</td>\n",
       "      <td>1.0</td>\n",
       "      <td>3300</td>\n",
       "      <td>15.6</td>\n",
       "      <td>2.044</td>\n",
       "    </tr>\n",
       "    <tr>\n",
       "      <th>5</th>\n",
       "      <td>Florida</td>\n",
       "      <td>1.32</td>\n",
       "      <td>13.5</td>\n",
       "      <td>111</td>\n",
       "      <td>60.0</td>\n",
       "      <td>-2.2</td>\n",
       "      <td>11127</td>\n",
       "      <td>22.5</td>\n",
       "      <td>1.241</td>\n",
       "    </tr>\n",
       "    <tr>\n",
       "      <th>6</th>\n",
       "      <td>Hawaiian</td>\n",
       "      <td>1.22</td>\n",
       "      <td>12.2</td>\n",
       "      <td>175</td>\n",
       "      <td>67.6</td>\n",
       "      <td>2.2</td>\n",
       "      <td>7642</td>\n",
       "      <td>0.0</td>\n",
       "      <td>1.652</td>\n",
       "    </tr>\n",
       "    <tr>\n",
       "      <th>7</th>\n",
       "      <td>Idaho</td>\n",
       "      <td>1.10</td>\n",
       "      <td>9.2</td>\n",
       "      <td>245</td>\n",
       "      <td>57.0</td>\n",
       "      <td>3.3</td>\n",
       "      <td>13082</td>\n",
       "      <td>0.0</td>\n",
       "      <td>0.309</td>\n",
       "    </tr>\n",
       "    <tr>\n",
       "      <th>8</th>\n",
       "      <td>Kentucky</td>\n",
       "      <td>1.34</td>\n",
       "      <td>13.0</td>\n",
       "      <td>168</td>\n",
       "      <td>60.4</td>\n",
       "      <td>7.2</td>\n",
       "      <td>8406</td>\n",
       "      <td>0.0</td>\n",
       "      <td>0.862</td>\n",
       "    </tr>\n",
       "    <tr>\n",
       "      <th>9</th>\n",
       "      <td>Madison</td>\n",
       "      <td>1.12</td>\n",
       "      <td>12.4</td>\n",
       "      <td>197</td>\n",
       "      <td>53.0</td>\n",
       "      <td>2.7</td>\n",
       "      <td>6455</td>\n",
       "      <td>39.2</td>\n",
       "      <td>0.623</td>\n",
       "    </tr>\n",
       "    <tr>\n",
       "      <th>10</th>\n",
       "      <td>Nevada</td>\n",
       "      <td>0.75</td>\n",
       "      <td>7.5</td>\n",
       "      <td>173</td>\n",
       "      <td>51.5</td>\n",
       "      <td>6.5</td>\n",
       "      <td>17441</td>\n",
       "      <td>0.0</td>\n",
       "      <td>0.768</td>\n",
       "    </tr>\n",
       "    <tr>\n",
       "      <th>11</th>\n",
       "      <td>New England</td>\n",
       "      <td>1.13</td>\n",
       "      <td>10.9</td>\n",
       "      <td>178</td>\n",
       "      <td>62.0</td>\n",
       "      <td>3.7</td>\n",
       "      <td>6154</td>\n",
       "      <td>0.0</td>\n",
       "      <td>1.897</td>\n",
       "    </tr>\n",
       "    <tr>\n",
       "      <th>12</th>\n",
       "      <td>Northern</td>\n",
       "      <td>1.15</td>\n",
       "      <td>12.7</td>\n",
       "      <td>199</td>\n",
       "      <td>53.7</td>\n",
       "      <td>6.4</td>\n",
       "      <td>7179</td>\n",
       "      <td>50.2</td>\n",
       "      <td>0.527</td>\n",
       "    </tr>\n",
       "    <tr>\n",
       "      <th>13</th>\n",
       "      <td>Oklahoma</td>\n",
       "      <td>1.09</td>\n",
       "      <td>12.0</td>\n",
       "      <td>96</td>\n",
       "      <td>49.8</td>\n",
       "      <td>1.4</td>\n",
       "      <td>9673</td>\n",
       "      <td>0.0</td>\n",
       "      <td>0.588</td>\n",
       "    </tr>\n",
       "    <tr>\n",
       "      <th>14</th>\n",
       "      <td>Pacific</td>\n",
       "      <td>0.96</td>\n",
       "      <td>7.6</td>\n",
       "      <td>164</td>\n",
       "      <td>62.2</td>\n",
       "      <td>-0.1</td>\n",
       "      <td>6468</td>\n",
       "      <td>0.9</td>\n",
       "      <td>1.400</td>\n",
       "    </tr>\n",
       "    <tr>\n",
       "      <th>15</th>\n",
       "      <td>Puget</td>\n",
       "      <td>1.16</td>\n",
       "      <td>9.9</td>\n",
       "      <td>252</td>\n",
       "      <td>56.0</td>\n",
       "      <td>9.2</td>\n",
       "      <td>15991</td>\n",
       "      <td>0.0</td>\n",
       "      <td>0.620</td>\n",
       "    </tr>\n",
       "    <tr>\n",
       "      <th>16</th>\n",
       "      <td>San Diego</td>\n",
       "      <td>0.76</td>\n",
       "      <td>6.4</td>\n",
       "      <td>136</td>\n",
       "      <td>61.9</td>\n",
       "      <td>9.0</td>\n",
       "      <td>5714</td>\n",
       "      <td>8.3</td>\n",
       "      <td>1.920</td>\n",
       "    </tr>\n",
       "    <tr>\n",
       "      <th>17</th>\n",
       "      <td>Southern</td>\n",
       "      <td>1.05</td>\n",
       "      <td>12.6</td>\n",
       "      <td>150</td>\n",
       "      <td>56.7</td>\n",
       "      <td>2.7</td>\n",
       "      <td>10140</td>\n",
       "      <td>0.0</td>\n",
       "      <td>1.108</td>\n",
       "    </tr>\n",
       "    <tr>\n",
       "      <th>18</th>\n",
       "      <td>Texas</td>\n",
       "      <td>1.16</td>\n",
       "      <td>11.7</td>\n",
       "      <td>104</td>\n",
       "      <td>54.0</td>\n",
       "      <td>-2.1</td>\n",
       "      <td>13507</td>\n",
       "      <td>0.0</td>\n",
       "      <td>0.636</td>\n",
       "    </tr>\n",
       "    <tr>\n",
       "      <th>19</th>\n",
       "      <td>Wisconsin</td>\n",
       "      <td>1.20</td>\n",
       "      <td>11.8</td>\n",
       "      <td>148</td>\n",
       "      <td>59.9</td>\n",
       "      <td>3.5</td>\n",
       "      <td>7287</td>\n",
       "      <td>41.1</td>\n",
       "      <td>0.702</td>\n",
       "    </tr>\n",
       "    <tr>\n",
       "      <th>20</th>\n",
       "      <td>United</td>\n",
       "      <td>1.04</td>\n",
       "      <td>8.6</td>\n",
       "      <td>204</td>\n",
       "      <td>61.0</td>\n",
       "      <td>3.5</td>\n",
       "      <td>6650</td>\n",
       "      <td>0.0</td>\n",
       "      <td>2.116</td>\n",
       "    </tr>\n",
       "    <tr>\n",
       "      <th>21</th>\n",
       "      <td>Virginia</td>\n",
       "      <td>1.07</td>\n",
       "      <td>9.3</td>\n",
       "      <td>174</td>\n",
       "      <td>54.3</td>\n",
       "      <td>5.9</td>\n",
       "      <td>10093</td>\n",
       "      <td>26.6</td>\n",
       "      <td>1.306</td>\n",
       "    </tr>\n",
       "  </tbody>\n",
       "</table>\n",
       "</div>"
      ]
     },
     "execution_count": 26,
     "metadata": {},
     "output_type": "execute_result"
    }
   ],
   "execution_count": 26
  },
  {
   "metadata": {
    "ExecuteTime": {
     "end_time": "2024-11-17T15:25:50.961964Z",
     "start_time": "2024-11-17T15:25:50.956136Z"
    }
   },
   "cell_type": "code",
   "source": "df.columns",
   "id": "a7a9f6f90be74d24",
   "outputs": [
    {
     "data": {
      "text/plain": [
       "Index(['Company', 'Fixed_charge', 'RoR', 'Cost', 'Load_factor',\n",
       "       'Demand_growth', 'Sales', 'Nuclear', 'Fuel_Cost'],\n",
       "      dtype='object')"
      ]
     },
     "execution_count": 27,
     "metadata": {},
     "output_type": "execute_result"
    }
   ],
   "execution_count": 27
  },
  {
   "metadata": {
    "ExecuteTime": {
     "end_time": "2024-11-17T15:25:51.014789Z",
     "start_time": "2024-11-17T15:25:51.009533Z"
    }
   },
   "cell_type": "code",
   "source": "df.dtypes",
   "id": "91a0704146c61777",
   "outputs": [
    {
     "data": {
      "text/plain": [
       "Company           object\n",
       "Fixed_charge     float64\n",
       "RoR              float64\n",
       "Cost               int64\n",
       "Load_factor      float64\n",
       "Demand_growth    float64\n",
       "Sales              int64\n",
       "Nuclear          float64\n",
       "Fuel_Cost        float64\n",
       "dtype: object"
      ]
     },
     "execution_count": 28,
     "metadata": {},
     "output_type": "execute_result"
    }
   ],
   "execution_count": 28
  },
  {
   "metadata": {
    "ExecuteTime": {
     "end_time": "2024-11-17T15:25:51.116801Z",
     "start_time": "2024-11-17T15:25:51.109415Z"
    }
   },
   "cell_type": "code",
   "source": [
    "X = df[['Sales', 'Fuel_Cost']]\n",
    "\n",
    "\n",
    "from sklearn.preprocessing import StandardScaler\n",
    "scaler = StandardScaler()\n",
    "X_std = scaler.fit_transform(X)\n",
    "# same idea with standardize the knn, as the measurement is the distance which would be influenced by scale\n",
    "\n"
   ],
   "id": "8e196fce183dc53f",
   "outputs": [],
   "execution_count": 29
  },
  {
   "metadata": {},
   "cell_type": "markdown",
   "source": "## Agglomerative Clustering",
   "id": "9d403494c2e8da82"
  },
  {
   "metadata": {
    "ExecuteTime": {
     "end_time": "2024-11-17T15:25:51.213454Z",
     "start_time": "2024-11-17T15:25:51.205281Z"
    }
   },
   "cell_type": "code",
   "source": [
    "# Create two clusters using complete linkage\n",
    "from sklearn.cluster import AgglomerativeClustering\n",
    "cluster = AgglomerativeClustering(n_clusters=2, linkage='complete', metric='euclidean')\n",
    "cluster.fit_predict(X_std)"
   ],
   "id": "1fef0fa47390f018",
   "outputs": [
    {
     "data": {
      "text/plain": [
       "array([0, 1, 0, 0, 1, 0, 1, 0, 0, 0, 0, 1, 0, 0, 1, 0, 1, 0, 0, 0, 1, 0])"
      ]
     },
     "execution_count": 30,
     "metadata": {},
     "output_type": "execute_result"
    }
   ],
   "execution_count": 30
  },
  {
   "metadata": {
    "ExecuteTime": {
     "end_time": "2024-11-17T15:25:51.349747Z",
     "start_time": "2024-11-17T15:25:51.336609Z"
    }
   },
   "cell_type": "code",
   "source": [
    "results=pd.DataFrame(list(zip(df['Company'],np.transpose(cluster.labels_))), columns = ['Company','Cluster label'])\n",
    "results"
   ],
   "id": "e5a851d637953d63",
   "outputs": [
    {
     "data": {
      "text/plain": [
       "         Company  Cluster label\n",
       "0       Arizona               0\n",
       "1        Boston               1\n",
       "2       Central               0\n",
       "3   Commonwealth              0\n",
       "4             NY              1\n",
       "5       Florida               0\n",
       "6      Hawaiian               1\n",
       "7          Idaho              0\n",
       "8       Kentucky              0\n",
       "9       Madison               0\n",
       "10        Nevada              0\n",
       "11   New England              1\n",
       "12      Northern              0\n",
       "13      Oklahoma              0\n",
       "14      Pacific               1\n",
       "15         Puget              0\n",
       "16     San Diego              1\n",
       "17      Southern              0\n",
       "18         Texas              0\n",
       "19     Wisconsin              0\n",
       "20        United              1\n",
       "21      Virginia              0"
      ],
      "text/html": [
       "<div>\n",
       "<style scoped>\n",
       "    .dataframe tbody tr th:only-of-type {\n",
       "        vertical-align: middle;\n",
       "    }\n",
       "\n",
       "    .dataframe tbody tr th {\n",
       "        vertical-align: top;\n",
       "    }\n",
       "\n",
       "    .dataframe thead th {\n",
       "        text-align: right;\n",
       "    }\n",
       "</style>\n",
       "<table border=\"1\" class=\"dataframe\">\n",
       "  <thead>\n",
       "    <tr style=\"text-align: right;\">\n",
       "      <th></th>\n",
       "      <th>Company</th>\n",
       "      <th>Cluster label</th>\n",
       "    </tr>\n",
       "  </thead>\n",
       "  <tbody>\n",
       "    <tr>\n",
       "      <th>0</th>\n",
       "      <td>Arizona</td>\n",
       "      <td>0</td>\n",
       "    </tr>\n",
       "    <tr>\n",
       "      <th>1</th>\n",
       "      <td>Boston</td>\n",
       "      <td>1</td>\n",
       "    </tr>\n",
       "    <tr>\n",
       "      <th>2</th>\n",
       "      <td>Central</td>\n",
       "      <td>0</td>\n",
       "    </tr>\n",
       "    <tr>\n",
       "      <th>3</th>\n",
       "      <td>Commonwealth</td>\n",
       "      <td>0</td>\n",
       "    </tr>\n",
       "    <tr>\n",
       "      <th>4</th>\n",
       "      <td>NY</td>\n",
       "      <td>1</td>\n",
       "    </tr>\n",
       "    <tr>\n",
       "      <th>5</th>\n",
       "      <td>Florida</td>\n",
       "      <td>0</td>\n",
       "    </tr>\n",
       "    <tr>\n",
       "      <th>6</th>\n",
       "      <td>Hawaiian</td>\n",
       "      <td>1</td>\n",
       "    </tr>\n",
       "    <tr>\n",
       "      <th>7</th>\n",
       "      <td>Idaho</td>\n",
       "      <td>0</td>\n",
       "    </tr>\n",
       "    <tr>\n",
       "      <th>8</th>\n",
       "      <td>Kentucky</td>\n",
       "      <td>0</td>\n",
       "    </tr>\n",
       "    <tr>\n",
       "      <th>9</th>\n",
       "      <td>Madison</td>\n",
       "      <td>0</td>\n",
       "    </tr>\n",
       "    <tr>\n",
       "      <th>10</th>\n",
       "      <td>Nevada</td>\n",
       "      <td>0</td>\n",
       "    </tr>\n",
       "    <tr>\n",
       "      <th>11</th>\n",
       "      <td>New England</td>\n",
       "      <td>1</td>\n",
       "    </tr>\n",
       "    <tr>\n",
       "      <th>12</th>\n",
       "      <td>Northern</td>\n",
       "      <td>0</td>\n",
       "    </tr>\n",
       "    <tr>\n",
       "      <th>13</th>\n",
       "      <td>Oklahoma</td>\n",
       "      <td>0</td>\n",
       "    </tr>\n",
       "    <tr>\n",
       "      <th>14</th>\n",
       "      <td>Pacific</td>\n",
       "      <td>1</td>\n",
       "    </tr>\n",
       "    <tr>\n",
       "      <th>15</th>\n",
       "      <td>Puget</td>\n",
       "      <td>0</td>\n",
       "    </tr>\n",
       "    <tr>\n",
       "      <th>16</th>\n",
       "      <td>San Diego</td>\n",
       "      <td>1</td>\n",
       "    </tr>\n",
       "    <tr>\n",
       "      <th>17</th>\n",
       "      <td>Southern</td>\n",
       "      <td>0</td>\n",
       "    </tr>\n",
       "    <tr>\n",
       "      <th>18</th>\n",
       "      <td>Texas</td>\n",
       "      <td>0</td>\n",
       "    </tr>\n",
       "    <tr>\n",
       "      <th>19</th>\n",
       "      <td>Wisconsin</td>\n",
       "      <td>0</td>\n",
       "    </tr>\n",
       "    <tr>\n",
       "      <th>20</th>\n",
       "      <td>United</td>\n",
       "      <td>1</td>\n",
       "    </tr>\n",
       "    <tr>\n",
       "      <th>21</th>\n",
       "      <td>Virginia</td>\n",
       "      <td>0</td>\n",
       "    </tr>\n",
       "  </tbody>\n",
       "</table>\n",
       "</div>"
      ]
     },
     "execution_count": 31,
     "metadata": {},
     "output_type": "execute_result"
    }
   ],
   "execution_count": 31
  },
  {
   "metadata": {
    "ExecuteTime": {
     "end_time": "2024-11-17T15:25:51.427958Z",
     "start_time": "2024-11-17T15:25:51.421264Z"
    }
   },
   "cell_type": "code",
   "source": [
    "# count the number of each cluster \n",
    "results['Cluster label'].value_counts()"
   ],
   "id": "e90089206ba5e29",
   "outputs": [
    {
     "data": {
      "text/plain": [
       "Cluster label\n",
       "0    15\n",
       "1     7\n",
       "Name: count, dtype: int64"
      ]
     },
     "execution_count": 32,
     "metadata": {},
     "output_type": "execute_result"
    }
   ],
   "execution_count": 32
  },
  {
   "metadata": {
    "ExecuteTime": {
     "end_time": "2024-11-17T15:25:51.788228Z",
     "start_time": "2024-11-17T15:25:51.544374Z"
    }
   },
   "cell_type": "code",
   "source": [
    "# Plot cluster membership\n",
    "from matplotlib import pyplot as plt\n",
    "plot = plt.scatter(df['Sales'], df['Fuel_Cost'], c=cluster.labels_, cmap='rainbow') \n",
    "plt.legend(*plot.legend_elements(), title='clusters')\n",
    "plt.xlabel(\"Sales\")\n",
    "plt.ylabel(\"Fuel Cost\")\n",
    "plt.show()"
   ],
   "id": "563adf9621cba5d3",
   "outputs": [
    {
     "data": {
      "text/plain": [
       "<Figure size 640x480 with 1 Axes>"
      ],
      "image/png": "[encoded data removed]"
     },
     "metadata": {},
     "output_type": "display_data"
    }
   ],
   "execution_count": 33
  },
  {
   "metadata": {},
   "cell_type": "markdown",
   "source": "## k-means clustering",
   "id": "5bdb361ba86a8171"
  },
  {
   "metadata": {
    "ExecuteTime": {
     "end_time": "2024-11-17T15:25:51.837675Z",
     "start_time": "2024-11-17T15:25:51.826187Z"
    }
   },
   "cell_type": "code",
   "source": [
    "from sklearn.cluster import KMeans\n",
    "kmeans = KMeans(n_clusters=3)\n",
    "model = kmeans.fit(X_std)\n",
    "labels = model.predict(X_std)"
   ],
   "id": "eb58eee0c80c6052",
   "outputs": [],
   "execution_count": 34
  },
  {
   "metadata": {
    "ExecuteTime": {
     "end_time": "2024-11-17T15:25:51.926605Z",
     "start_time": "2024-11-17T15:25:51.917538Z"
    }
   },
   "cell_type": "code",
   "source": [
    "k_results=pd.DataFrame(list(zip(df['Company'],np.transpose(labels))), columns = ['Company','Cluster label'])\n",
    "k_results"
   ],
   "id": "2b109cb0808d7751",
   "outputs": [
    {
     "data": {
      "text/plain": [
       "         Company  Cluster label\n",
       "0       Arizona               0\n",
       "1        Boston               1\n",
       "2       Central               0\n",
       "3   Commonwealth              0\n",
       "4             NY              1\n",
       "5       Florida               0\n",
       "6      Hawaiian               1\n",
       "7          Idaho              2\n",
       "8       Kentucky              0\n",
       "9       Madison               0\n",
       "10        Nevada              2\n",
       "11   New England              1\n",
       "12      Northern              0\n",
       "13      Oklahoma              0\n",
       "14      Pacific               1\n",
       "15         Puget              2\n",
       "16     San Diego              1\n",
       "17      Southern              0\n",
       "18         Texas              2\n",
       "19     Wisconsin              0\n",
       "20        United              1\n",
       "21      Virginia              0"
      ],
      "text/html": [
       "<div>\n",
       "<style scoped>\n",
       "    .dataframe tbody tr th:only-of-type {\n",
       "        vertical-align: middle;\n",
       "    }\n",
       "\n",
       "    .dataframe tbody tr th {\n",
       "        vertical-align: top;\n",
       "    }\n",
       "\n",
       "    .dataframe thead th {\n",
       "        text-align: right;\n",
       "    }\n",
       "</style>\n",
       "<table border=\"1\" class=\"dataframe\">\n",
       "  <thead>\n",
       "    <tr style=\"text-align: right;\">\n",
       "      <th></th>\n",
       "      <th>Company</th>\n",
       "      <th>Cluster label</th>\n",
       "    </tr>\n",
       "  </thead>\n",
       "  <tbody>\n",
       "    <tr>\n",
       "      <th>0</th>\n",
       "      <td>Arizona</td>\n",
       "      <td>0</td>\n",
       "    </tr>\n",
       "    <tr>\n",
       "      <th>1</th>\n",
       "      <td>Boston</td>\n",
       "      <td>1</td>\n",
       "    </tr>\n",
       "    <tr>\n",
       "      <th>2</th>\n",
       "      <td>Central</td>\n",
       "      <td>0</td>\n",
       "    </tr>\n",
       "    <tr>\n",
       "      <th>3</th>\n",
       "      <td>Commonwealth</td>\n",
       "      <td>0</td>\n",
       "    </tr>\n",
       "    <tr>\n",
       "      <th>4</th>\n",
       "      <td>NY</td>\n",
       "      <td>1</td>\n",
       "    </tr>\n",
       "    <tr>\n",
       "      <th>5</th>\n",
       "      <td>Florida</td>\n",
       "      <td>0</td>\n",
       "    </tr>\n",
       "    <tr>\n",
       "      <th>6</th>\n",
       "      <td>Hawaiian</td>\n",
       "      <td>1</td>\n",
       "    </tr>\n",
       "    <tr>\n",
       "      <th>7</th>\n",
       "      <td>Idaho</td>\n",
       "      <td>2</td>\n",
       "    </tr>\n",
       "    <tr>\n",
       "      <th>8</th>\n",
       "      <td>Kentucky</td>\n",
       "      <td>0</td>\n",
       "    </tr>\n",
       "    <tr>\n",
       "      <th>9</th>\n",
       "      <td>Madison</td>\n",
       "      <td>0</td>\n",
       "    </tr>\n",
       "    <tr>\n",
       "      <th>10</th>\n",
       "      <td>Nevada</td>\n",
       "      <td>2</td>\n",
       "    </tr>\n",
       "    <tr>\n",
       "      <th>11</th>\n",
       "      <td>New England</td>\n",
       "      <td>1</td>\n",
       "    </tr>\n",
       "    <tr>\n",
       "      <th>12</th>\n",
       "      <td>Northern</td>\n",
       "      <td>0</td>\n",
       "    </tr>\n",
       "    <tr>\n",
       "      <th>13</th>\n",
       "      <td>Oklahoma</td>\n",
       "      <td>0</td>\n",
       "    </tr>\n",
       "    <tr>\n",
       "      <th>14</th>\n",
       "      <td>Pacific</td>\n",
       "      <td>1</td>\n",
       "    </tr>\n",
       "    <tr>\n",
       "      <th>15</th>\n",
       "      <td>Puget</td>\n",
       "      <td>2</td>\n",
       "    </tr>\n",
       "    <tr>\n",
       "      <th>16</th>\n",
       "      <td>San Diego</td>\n",
       "      <td>1</td>\n",
       "    </tr>\n",
       "    <tr>\n",
       "      <th>17</th>\n",
       "      <td>Southern</td>\n",
       "      <td>0</td>\n",
       "    </tr>\n",
       "    <tr>\n",
       "      <th>18</th>\n",
       "      <td>Texas</td>\n",
       "      <td>2</td>\n",
       "    </tr>\n",
       "    <tr>\n",
       "      <th>19</th>\n",
       "      <td>Wisconsin</td>\n",
       "      <td>0</td>\n",
       "    </tr>\n",
       "    <tr>\n",
       "      <th>20</th>\n",
       "      <td>United</td>\n",
       "      <td>1</td>\n",
       "    </tr>\n",
       "    <tr>\n",
       "      <th>21</th>\n",
       "      <td>Virginia</td>\n",
       "      <td>0</td>\n",
       "    </tr>\n",
       "  </tbody>\n",
       "</table>\n",
       "</div>"
      ]
     },
     "execution_count": 35,
     "metadata": {},
     "output_type": "execute_result"
    }
   ],
   "execution_count": 35
  },
  {
   "metadata": {
    "ExecuteTime": {
     "end_time": "2024-11-17T15:25:52.008818Z",
     "start_time": "2024-11-17T15:25:52.002551Z"
    }
   },
   "cell_type": "code",
   "source": "k_results['Cluster label'].value_counts()",
   "id": "4ddb2ef747dfabae",
   "outputs": [
    {
     "data": {
      "text/plain": [
       "Cluster label\n",
       "0    11\n",
       "1     7\n",
       "2     4\n",
       "Name: count, dtype: int64"
      ]
     },
     "execution_count": 36,
     "metadata": {},
     "output_type": "execute_result"
    }
   ],
   "execution_count": 36
  },
  {
   "metadata": {
    "ExecuteTime": {
     "end_time": "2024-11-17T15:25:52.299825Z",
     "start_time": "2024-11-17T15:25:52.144666Z"
    }
   },
   "cell_type": "code",
   "source": [
    "# Plot cluster membership\n",
    "plt.scatter(df['Sales'], df['Fuel_Cost'], c=labels, cmap='rainbow') \n",
    "plot = plt.scatter(df['Sales'], df['Fuel_Cost'], c=labels, cmap='rainbow') \n",
    "plt.legend(*plot.legend_elements(), title='clusters')\n",
    "plt.xlabel(\"Sales\")\n",
    "plt.ylabel(\"Fuel Cost\")\n",
    "plt.show()"
   ],
   "id": "da4a6b2efe55efb0",
   "outputs": [
    {
     "data": {
      "text/plain": [
       "<Figure size 640x480 with 1 Axes>"
      ],
      "image/png": "[encoded data removed]"
     },
     "metadata": {},
     "output_type": "display_data"
    }
   ],
   "execution_count": 37
  },
  {
   "metadata": {},
   "cell_type": "markdown",
   "source": [
    "## cluster performance measurement \n",
    "within variance min\n",
    "\n",
    "between variance max"
   ],
   "id": "3fdfa1c81c5a9a49"
  },
  {
   "metadata": {},
   "cell_type": "markdown",
   "source": "### elbow method ",
   "id": "cb59d6007135a76f"
  },
  {
   "metadata": {
    "ExecuteTime": {
     "end_time": "2024-11-17T15:25:52.505178Z",
     "start_time": "2024-11-17T15:25:52.380508Z"
    }
   },
   "cell_type": "code",
   "source": [
    "### 1. Find the optimal k for k-means using elbow method, evaluate the within distance\n",
    "withinss = []\n",
    "for i in range (2,8):\n",
    "    kmeans = KMeans(n_clusters=i)\n",
    "    model = kmeans.fit(X_std)\n",
    "    withinss.append(model.inertia_)\n",
    "\n",
    "# Create a plot\n",
    "from matplotlib import pyplot\n",
    "pyplot.plot([2,3,4,5,6,7],withinss)"
   ],
   "id": "5471b16c316d93af",
   "outputs": [
    {
     "data": {
      "text/plain": [
       "[<matplotlib.lines.Line2D at 0x306887590>]"
      ]
     },
     "execution_count": 38,
     "metadata": {},
     "output_type": "execute_result"
    },
    {
     "data": {
      "text/plain": [
       "<Figure size 640x480 with 1 Axes>"
      ],
      "image/png": "[encoded data removed]"
     },
     "metadata": {},
     "output_type": "display_data"
    }
   ],
   "execution_count": 38
  },
  {
   "metadata": {},
   "cell_type": "markdown",
   "source": "### Silhouette method",
   "id": "c4ceae0dd86c3646"
  },
  {
   "metadata": {
    "ExecuteTime": {
     "end_time": "2024-11-17T15:25:52.556662Z",
     "start_time": "2024-11-17T15:25:52.545554Z"
    }
   },
   "cell_type": "code",
   "source": [
    "### 2. Silhouette method, evaluate the intuitive balance of cohesion (compactness) and separation\n",
    "# Silhouette analysis when k=3\n",
    "kmeans = KMeans(n_clusters=3)\n",
    "model = kmeans.fit(X_std)\n",
    "labels = model.labels_\n",
    "\n",
    "from sklearn.metrics import silhouette_samples # examine individual point\n",
    "silhouette = silhouette_samples(X_std,labels) \n",
    "silhouette_df = pd.DataFrame({'label':labels, 'silhouette':silhouette}) # individual observations"
   ],
   "id": "92743cfed6f123e",
   "outputs": [],
   "execution_count": 39
  },
  {
   "metadata": {
    "ExecuteTime": {
     "end_time": "2024-11-17T15:25:52.598686Z",
     "start_time": "2024-11-17T15:25:52.589632Z"
    }
   },
   "cell_type": "code",
   "source": "silhouette_df",
   "id": "3fd758a2bfdb9e26",
   "outputs": [
    {
     "data": {
      "text/plain": [
       "    label  silhouette\n",
       "0       2    0.565961\n",
       "1       0    0.546885\n",
       "2       2    0.547135\n",
       "3       2    0.575652\n",
       "4       0    0.603456\n",
       "5       2    0.330873\n",
       "6       0    0.474925\n",
       "7       1    0.393702\n",
       "8       2    0.647076\n",
       "9       2    0.589699\n",
       "10      1    0.592657\n",
       "11      0    0.713711\n",
       "12      2    0.609401\n",
       "13      2    0.455128\n",
       "14      0    0.283018\n",
       "15      1    0.667069\n",
       "16      0    0.719730\n",
       "17      2    0.506163\n",
       "18      1    0.471350\n",
       "19      2    0.646307\n",
       "20      0    0.647956\n",
       "21      2    0.299158"
      ],
      "text/html": [
       "<div>\n",
       "<style scoped>\n",
       "    .dataframe tbody tr th:only-of-type {\n",
       "        vertical-align: middle;\n",
       "    }\n",
       "\n",
       "    .dataframe tbody tr th {\n",
       "        vertical-align: top;\n",
       "    }\n",
       "\n",
       "    .dataframe thead th {\n",
       "        text-align: right;\n",
       "    }\n",
       "</style>\n",
       "<table border=\"1\" class=\"dataframe\">\n",
       "  <thead>\n",
       "    <tr style=\"text-align: right;\">\n",
       "      <th></th>\n",
       "      <th>label</th>\n",
       "      <th>silhouette</th>\n",
       "    </tr>\n",
       "  </thead>\n",
       "  <tbody>\n",
       "    <tr>\n",
       "      <th>0</th>\n",
       "      <td>2</td>\n",
       "      <td>0.565961</td>\n",
       "    </tr>\n",
       "    <tr>\n",
       "      <th>1</th>\n",
       "      <td>0</td>\n",
       "      <td>0.546885</td>\n",
       "    </tr>\n",
       "    <tr>\n",
       "      <th>2</th>\n",
       "      <td>2</td>\n",
       "      <td>0.547135</td>\n",
       "    </tr>\n",
       "    <tr>\n",
       "      <th>3</th>\n",
       "      <td>2</td>\n",
       "      <td>0.575652</td>\n",
       "    </tr>\n",
       "    <tr>\n",
       "      <th>4</th>\n",
       "      <td>0</td>\n",
       "      <td>0.603456</td>\n",
       "    </tr>\n",
       "    <tr>\n",
       "      <th>5</th>\n",
       "      <td>2</td>\n",
       "      <td>0.330873</td>\n",
       "    </tr>\n",
       "    <tr>\n",
       "      <th>6</th>\n",
       "      <td>0</td>\n",
       "      <td>0.474925</td>\n",
       "    </tr>\n",
       "    <tr>\n",
       "      <th>7</th>\n",
       "      <td>1</td>\n",
       "      <td>0.393702</td>\n",
       "    </tr>\n",
       "    <tr>\n",
       "      <th>8</th>\n",
       "      <td>2</td>\n",
       "      <td>0.647076</td>\n",
       "    </tr>\n",
       "    <tr>\n",
       "      <th>9</th>\n",
       "      <td>2</td>\n",
       "      <td>0.589699</td>\n",
       "    </tr>\n",
       "    <tr>\n",
       "      <th>10</th>\n",
       "      <td>1</td>\n",
       "      <td>0.592657</td>\n",
       "    </tr>\n",
       "    <tr>\n",
       "      <th>11</th>\n",
       "      <td>0</td>\n",
       "      <td>0.713711</td>\n",
       "    </tr>\n",
       "    <tr>\n",
       "      <th>12</th>\n",
       "      <td>2</td>\n",
       "      <td>0.609401</td>\n",
       "    </tr>\n",
       "    <tr>\n",
       "      <th>13</th>\n",
       "      <td>2</td>\n",
       "      <td>0.455128</td>\n",
       "    </tr>\n",
       "    <tr>\n",
       "      <th>14</th>\n",
       "      <td>0</td>\n",
       "      <td>0.283018</td>\n",
       "    </tr>\n",
       "    <tr>\n",
       "      <th>15</th>\n",
       "      <td>1</td>\n",
       "      <td>0.667069</td>\n",
       "    </tr>\n",
       "    <tr>\n",
       "      <th>16</th>\n",
       "      <td>0</td>\n",
       "      <td>0.719730</td>\n",
       "    </tr>\n",
       "    <tr>\n",
       "      <th>17</th>\n",
       "      <td>2</td>\n",
       "      <td>0.506163</td>\n",
       "    </tr>\n",
       "    <tr>\n",
       "      <th>18</th>\n",
       "      <td>1</td>\n",
       "      <td>0.471350</td>\n",
       "    </tr>\n",
       "    <tr>\n",
       "      <th>19</th>\n",
       "      <td>2</td>\n",
       "      <td>0.646307</td>\n",
       "    </tr>\n",
       "    <tr>\n",
       "      <th>20</th>\n",
       "      <td>0</td>\n",
       "      <td>0.647956</td>\n",
       "    </tr>\n",
       "    <tr>\n",
       "      <th>21</th>\n",
       "      <td>2</td>\n",
       "      <td>0.299158</td>\n",
       "    </tr>\n",
       "  </tbody>\n",
       "</table>\n",
       "</div>"
      ]
     },
     "execution_count": 40,
     "metadata": {},
     "output_type": "execute_result"
    }
   ],
   "execution_count": 40
  },
  {
   "metadata": {
    "ExecuteTime": {
     "end_time": "2024-11-17T15:25:52.682015Z",
     "start_time": "2024-11-17T15:25:52.674941Z"
    }
   },
   "cell_type": "code",
   "source": [
    "# average scores of each cluster \n",
    "for i in range(0,3):\n",
    "    print('Average Silhouette Score for Cluster ',i,': ',np.average(silhouette_df[silhouette_df['label'] == i].silhouette))"
   ],
   "id": "f716e5506c9b45b2",
   "outputs": [
    {
     "name": "stdout",
     "output_type": "stream",
     "text": [
      "Average Silhouette Score for Cluster  0 :  0.5699544765052187\n",
      "Average Silhouette Score for Cluster  1 :  0.5311945046043701\n",
      "Average Silhouette Score for Cluster  2 :  0.5247774728476915\n"
     ]
    }
   ],
   "execution_count": 41
  },
  {
   "metadata": {
    "ExecuteTime": {
     "end_time": "2024-11-17T15:25:52.759205Z",
     "start_time": "2024-11-17T15:25:52.751866Z"
    }
   },
   "cell_type": "code",
   "source": [
    " # overall score\n",
    "from sklearn.metrics import silhouette_score \n",
    "silhouette_score(X_std,labels)"
   ],
   "id": "ccadb95804d83c69",
   "outputs": [
    {
     "data": {
      "text/plain": [
       "np.float64(0.540318707058119)"
      ]
     },
     "execution_count": 42,
     "metadata": {},
     "output_type": "execute_result"
    }
   ],
   "execution_count": 42
  },
  {
   "metadata": {
    "ExecuteTime": {
     "end_time": "2024-11-17T15:25:52.856844Z",
     "start_time": "2024-11-17T15:25:52.839824Z"
    }
   },
   "cell_type": "code",
   "source": [
    "# Finding optimal K\n",
    "for i in range (2,8):   \n",
    "    kmeans= KMeans(n_clusters=i)\n",
    "    model = kmeans.fit(X_std)\n",
    "    labels = model.labels_\n",
    "    print(i,':',silhouette_score(X_std,labels))"
   ],
   "id": "a54790dd4e633511",
   "outputs": [
    {
     "name": "stdout",
     "output_type": "stream",
     "text": [
      "2 : 0.29276289238508063\n",
      "3 : 0.540318707058119\n",
      "4 : 0.47494044563497745\n",
      "5 : 0.4935524072825615\n",
      "6 : 0.4921476320124713\n",
      "7 : 0.47178104269311283\n"
     ]
    }
   ],
   "execution_count": 43
  },
  {
   "metadata": {},
   "cell_type": "markdown",
   "source": "## Pseudo-F statistics ",
   "id": "28fb0463210b8c24"
  },
  {
   "metadata": {
    "ExecuteTime": {
     "end_time": "2024-11-17T15:25:52.914606Z",
     "start_time": "2024-11-17T15:25:52.907574Z"
    }
   },
   "cell_type": "code",
   "source": [
    "### 3. Pseudo-F statistics \n",
    "# Pseudo-F Statistic when k=3\n",
    "kmeans = KMeans(n_clusters=3)\n",
    "model = kmeans.fit(X_std)\n",
    "labels = model.labels_\n",
    "\n",
    "### Type your code here ###\n",
    "from sklearn.metrics import calinski_harabasz_score\n",
    "calinski_harabasz_score(X_std, labels)"
   ],
   "id": "b5386d74450da59f",
   "outputs": [
    {
     "data": {
      "text/plain": [
       "np.float64(38.749380034836385)"
      ]
     },
     "execution_count": 44,
     "metadata": {},
     "output_type": "execute_result"
    }
   ],
   "execution_count": 44
  },
  {
   "metadata": {
    "ExecuteTime": {
     "end_time": "2024-11-17T15:25:52.981739Z",
     "start_time": "2024-11-17T15:25:52.966056Z"
    }
   },
   "cell_type": "code",
   "source": [
    "for i in range (2,8):\n",
    "    kmeans = KMeans(n_clusters=i)\n",
    "    model = kmeans.fit(X_std)\n",
    "    labels = model.labels_\n",
    "    print('K=',i,':',calinski_harabasz_score(X_std, labels))"
   ],
   "id": "74f32468c058a776",
   "outputs": [
    {
     "name": "stdout",
     "output_type": "stream",
     "text": [
      "K= 2 : 25.743536110263015\n",
      "K= 3 : 38.749380034836385\n",
      "K= 4 : 39.87816604759726\n",
      "K= 5 : 36.675896587669264\n",
      "K= 6 : 41.949065102430026\n",
      "K= 7 : 42.34916044497936\n"
     ]
    }
   ],
   "execution_count": 45
  },
  {
   "metadata": {},
   "cell_type": "markdown",
   "source": "## Examining Clusters",
   "id": "ee7a9360f37a2f79"
  },
  {
   "metadata": {
    "ExecuteTime": {
     "end_time": "2024-11-17T15:27:10.747326Z",
     "start_time": "2024-11-17T15:27:10.688519Z"
    }
   },
   "cell_type": "code",
   "source": [
    "import seaborn as sns\n",
    "from matplotlib import pyplot\n",
    "kmeans = KMeans(n_clusters=3)\n",
    "model = kmeans.fit(X_std)\n",
    "labels = model.labels_\n",
    "X['Cluster'] = labels\n",
    "X"
   ],
   "id": "54f8ee80fae3bb21",
   "outputs": [
    {
     "name": "stderr",
     "output_type": "stream",
     "text": [
      "/var/folders/vh/gllcxg8x3yn4st69ndbdsll00000gn/T/ipykernel_51240/1864835963.py:6: SettingWithCopyWarning: \n",
      "A value is trying to be set on a copy of a slice from a DataFrame.\n",
      "Try using .loc[row_indexer,col_indexer] = value instead\n",
      "\n",
      "See the caveats in the documentation: https://pandas.pydata.org/pandas-docs/stable/user_guide/indexing.html#returning-a-view-versus-a-copy\n",
      "  X['Cluster'] = labels\n"
     ]
    },
    {
     "data": {
      "text/plain": [
       "    Sales  Fuel_Cost  Cluster\n",
       "0    9077      0.628        1\n",
       "1    5088      1.555        0\n",
       "2    9212      1.058        1\n",
       "3    6423      0.700        1\n",
       "4    3300      2.044        0\n",
       "5   11127      1.241        1\n",
       "6    7642      1.652        0\n",
       "7   13082      0.309        2\n",
       "8    8406      0.862        1\n",
       "9    6455      0.623        1\n",
       "10  17441      0.768        2\n",
       "11   6154      1.897        0\n",
       "12   7179      0.527        1\n",
       "13   9673      0.588        1\n",
       "14   6468      1.400        0\n",
       "15  15991      0.620        2\n",
       "16   5714      1.920        0\n",
       "17  10140      1.108        1\n",
       "18  13507      0.636        2\n",
       "19   7287      0.702        1\n",
       "20   6650      2.116        0\n",
       "21  10093      1.306        1"
      ],
      "text/html": [
       "<div>\n",
       "<style scoped>\n",
       "    .dataframe tbody tr th:only-of-type {\n",
       "        vertical-align: middle;\n",
       "    }\n",
       "\n",
       "    .dataframe tbody tr th {\n",
       "        vertical-align: top;\n",
       "    }\n",
       "\n",
       "    .dataframe thead th {\n",
       "        text-align: right;\n",
       "    }\n",
       "</style>\n",
       "<table border=\"1\" class=\"dataframe\">\n",
       "  <thead>\n",
       "    <tr style=\"text-align: right;\">\n",
       "      <th></th>\n",
       "      <th>Sales</th>\n",
       "      <th>Fuel_Cost</th>\n",
       "      <th>Cluster</th>\n",
       "    </tr>\n",
       "  </thead>\n",
       "  <tbody>\n",
       "    <tr>\n",
       "      <th>0</th>\n",
       "      <td>9077</td>\n",
       "      <td>0.628</td>\n",
       "      <td>1</td>\n",
       "    </tr>\n",
       "    <tr>\n",
       "      <th>1</th>\n",
       "      <td>5088</td>\n",
       "      <td>1.555</td>\n",
       "      <td>0</td>\n",
       "    </tr>\n",
       "    <tr>\n",
       "      <th>2</th>\n",
       "      <td>9212</td>\n",
       "      <td>1.058</td>\n",
       "      <td>1</td>\n",
       "    </tr>\n",
       "    <tr>\n",
       "      <th>3</th>\n",
       "      <td>6423</td>\n",
       "      <td>0.700</td>\n",
       "      <td>1</td>\n",
       "    </tr>\n",
       "    <tr>\n",
       "      <th>4</th>\n",
       "      <td>3300</td>\n",
       "      <td>2.044</td>\n",
       "      <td>0</td>\n",
       "    </tr>\n",
       "    <tr>\n",
       "      <th>5</th>\n",
       "      <td>11127</td>\n",
       "      <td>1.241</td>\n",
       "      <td>1</td>\n",
       "    </tr>\n",
       "    <tr>\n",
       "      <th>6</th>\n",
       "      <td>7642</td>\n",
       "      <td>1.652</td>\n",
       "      <td>0</td>\n",
       "    </tr>\n",
       "    <tr>\n",
       "      <th>7</th>\n",
       "      <td>13082</td>\n",
       "      <td>0.309</td>\n",
       "      <td>2</td>\n",
       "    </tr>\n",
       "    <tr>\n",
       "      <th>8</th>\n",
       "      <td>8406</td>\n",
       "      <td>0.862</td>\n",
       "      <td>1</td>\n",
       "    </tr>\n",
       "    <tr>\n",
       "      <th>9</th>\n",
       "      <td>6455</td>\n",
       "      <td>0.623</td>\n",
       "      <td>1</td>\n",
       "    </tr>\n",
       "    <tr>\n",
       "      <th>10</th>\n",
       "      <td>17441</td>\n",
       "      <td>0.768</td>\n",
       "      <td>2</td>\n",
       "    </tr>\n",
       "    <tr>\n",
       "      <th>11</th>\n",
       "      <td>6154</td>\n",
       "      <td>1.897</td>\n",
       "      <td>0</td>\n",
       "    </tr>\n",
       "    <tr>\n",
       "      <th>12</th>\n",
       "      <td>7179</td>\n",
       "      <td>0.527</td>\n",
       "      <td>1</td>\n",
       "    </tr>\n",
       "    <tr>\n",
       "      <th>13</th>\n",
       "      <td>9673</td>\n",
       "      <td>0.588</td>\n",
       "      <td>1</td>\n",
       "    </tr>\n",
       "    <tr>\n",
       "      <th>14</th>\n",
       "      <td>6468</td>\n",
       "      <td>1.400</td>\n",
       "      <td>0</td>\n",
       "    </tr>\n",
       "    <tr>\n",
       "      <th>15</th>\n",
       "      <td>15991</td>\n",
       "      <td>0.620</td>\n",
       "      <td>2</td>\n",
       "    </tr>\n",
       "    <tr>\n",
       "      <th>16</th>\n",
       "      <td>5714</td>\n",
       "      <td>1.920</td>\n",
       "      <td>0</td>\n",
       "    </tr>\n",
       "    <tr>\n",
       "      <th>17</th>\n",
       "      <td>10140</td>\n",
       "      <td>1.108</td>\n",
       "      <td>1</td>\n",
       "    </tr>\n",
       "    <tr>\n",
       "      <th>18</th>\n",
       "      <td>13507</td>\n",
       "      <td>0.636</td>\n",
       "      <td>2</td>\n",
       "    </tr>\n",
       "    <tr>\n",
       "      <th>19</th>\n",
       "      <td>7287</td>\n",
       "      <td>0.702</td>\n",
       "      <td>1</td>\n",
       "    </tr>\n",
       "    <tr>\n",
       "      <th>20</th>\n",
       "      <td>6650</td>\n",
       "      <td>2.116</td>\n",
       "      <td>0</td>\n",
       "    </tr>\n",
       "    <tr>\n",
       "      <th>21</th>\n",
       "      <td>10093</td>\n",
       "      <td>1.306</td>\n",
       "      <td>1</td>\n",
       "    </tr>\n",
       "  </tbody>\n",
       "</table>\n",
       "</div>"
      ]
     },
     "execution_count": 51,
     "metadata": {},
     "output_type": "execute_result"
    }
   ],
   "execution_count": 51
  },
  {
   "metadata": {
    "ExecuteTime": {
     "end_time": "2024-11-17T15:25:53.282862Z",
     "start_time": "2024-11-17T15:25:53.132267Z"
    }
   },
   "cell_type": "code",
   "source": [
    "# Distribution of the clusters\n",
    "pl = sns.countplot(x=X[\"Cluster\"])\n",
    "pl.set_title(\"Distribution Of The Clusters\")\n",
    "plt.show()"
   ],
   "id": "431575fc76e6fdb4",
   "outputs": [
    {
     "data": {
      "text/plain": [
       "<Figure size 640x480 with 1 Axes>"
      ],
      "image/png": "[encoded data removed]"
     },
     "metadata": {},
     "output_type": "display_data"
    }
   ],
   "execution_count": 47
  },
  {
   "metadata": {
    "ExecuteTime": {
     "end_time": "2024-11-17T15:25:53.434083Z",
     "start_time": "2024-11-17T15:25:53.310645Z"
    }
   },
   "cell_type": "code",
   "source": [
    "# Sales by clusters\n",
    "pl = sns.boxplot(x=\"Cluster\", y=\"Sales\", data=X)\n",
    "pl.set_title(\"Sales by Clusters\")\n",
    "plt.show()"
   ],
   "id": "48c453610ea70171",
   "outputs": [
    {
     "data": {
      "text/plain": [
       "<Figure size 640x480 with 1 Axes>"
      ],
      "image/png": "[encoded data removed]"
     },
     "metadata": {},
     "output_type": "display_data"
    }
   ],
   "execution_count": 48
  },
  {
   "metadata": {
    "ExecuteTime": {
     "end_time": "2024-11-17T15:25:53.469528Z",
     "start_time": "2024-11-17T15:25:53.451758Z"
    }
   },
   "cell_type": "code",
   "source": [
    "# Descriptive stats by clusters\n",
    "pd.set_option('display.expand_frame_repr', False) # to print out full columns\n",
    "X.groupby(\"Cluster\")['Sales'].describe()\n",
    "X.groupby(\"Cluster\")['Fuel_Cost'].describe()"
   ],
   "id": "54c9e5cefc18bb19",
   "outputs": [
    {
     "data": {
      "text/plain": [
       "         count      mean       std    min      25%    50%    75%    max\n",
       "Cluster                                                                \n",
       "0          4.0  0.583250  0.194490  0.309  0.54225  0.628  0.669  0.768\n",
       "1          7.0  1.797714  0.266175  1.400  1.60350  1.897  1.982  2.116\n",
       "2         11.0  0.849364  0.280887  0.527  0.62550  0.702  1.083  1.306"
      ],
      "text/html": [
       "<div>\n",
       "<style scoped>\n",
       "    .dataframe tbody tr th:only-of-type {\n",
       "        vertical-align: middle;\n",
       "    }\n",
       "\n",
       "    .dataframe tbody tr th {\n",
       "        vertical-align: top;\n",
       "    }\n",
       "\n",
       "    .dataframe thead th {\n",
       "        text-align: right;\n",
       "    }\n",
       "</style>\n",
       "<table border=\"1\" class=\"dataframe\">\n",
       "  <thead>\n",
       "    <tr style=\"text-align: right;\">\n",
       "      <th></th>\n",
       "      <th>count</th>\n",
       "      <th>mean</th>\n",
       "      <th>std</th>\n",
       "      <th>min</th>\n",
       "      <th>25%</th>\n",
       "      <th>50%</th>\n",
       "      <th>75%</th>\n",
       "      <th>max</th>\n",
       "    </tr>\n",
       "    <tr>\n",
       "      <th>Cluster</th>\n",
       "      <th></th>\n",
       "      <th></th>\n",
       "      <th></th>\n",
       "      <th></th>\n",
       "      <th></th>\n",
       "      <th></th>\n",
       "      <th></th>\n",
       "      <th></th>\n",
       "    </tr>\n",
       "  </thead>\n",
       "  <tbody>\n",
       "    <tr>\n",
       "      <th>0</th>\n",
       "      <td>4.0</td>\n",
       "      <td>0.583250</td>\n",
       "      <td>0.194490</td>\n",
       "      <td>0.309</td>\n",
       "      <td>0.54225</td>\n",
       "      <td>0.628</td>\n",
       "      <td>0.669</td>\n",
       "      <td>0.768</td>\n",
       "    </tr>\n",
       "    <tr>\n",
       "      <th>1</th>\n",
       "      <td>7.0</td>\n",
       "      <td>1.797714</td>\n",
       "      <td>0.266175</td>\n",
       "      <td>1.400</td>\n",
       "      <td>1.60350</td>\n",
       "      <td>1.897</td>\n",
       "      <td>1.982</td>\n",
       "      <td>2.116</td>\n",
       "    </tr>\n",
       "    <tr>\n",
       "      <th>2</th>\n",
       "      <td>11.0</td>\n",
       "      <td>0.849364</td>\n",
       "      <td>0.280887</td>\n",
       "      <td>0.527</td>\n",
       "      <td>0.62550</td>\n",
       "      <td>0.702</td>\n",
       "      <td>1.083</td>\n",
       "      <td>1.306</td>\n",
       "    </tr>\n",
       "  </tbody>\n",
       "</table>\n",
       "</div>"
      ]
     },
     "execution_count": 49,
     "metadata": {},
     "output_type": "execute_result"
    }
   ],
   "execution_count": 49
  },
  {
   "metadata": {},
   "cell_type": "markdown",
   "source": " SO What dose cluster do is to find the hidden pattern of the unlabelled data, meaning help to find the label of each case. then we could get insights from there.",
   "id": "c85a5e1706f8a47d"
  },
  {
   "metadata": {},
   "cell_type": "markdown",
   "source": "# DBSCAN & K-MEANS",
   "id": "8561189bf2348e41"
  },
  {
   "metadata": {
    "ExecuteTime": {
     "end_time": "2024-11-18T20:23:07.300054Z",
     "start_time": "2024-11-18T20:23:05.856920Z"
    }
   },
   "cell_type": "code",
   "source": [
    "## Before model building\n",
    "\n",
    "import pandas as pd\n",
    "\n",
    "df = pd.read_csv(\"/Users/hexiaoyu/Desktop/Courses/INSY- DATA MINING/ClusterExample.csv\")\n",
    "\n",
    "# Creating a scatterplot\n",
    "from matplotlib import pyplot\n",
    "\n",
    "pyplot.scatter(df['x0'], df['x1'])\n",
    "pyplot.xlabel(\"Feature 0\")\n",
    "pyplot.ylabel(\"Feature 1\")\n",
    "pyplot.show()\n"
   ],
   "id": "4bf3e71e762bd4cd",
   "outputs": [
    {
     "data": {
      "text/plain": [
       "<Figure size 640x480 with 1 Axes>"
      ],
      "image/png": "[encoded data removed]"
     },
     "metadata": {},
     "output_type": "display_data"
    },
    {
     "name": "stdout",
     "output_type": "stream",
     "text": [
      "<matplotlib.collections.PathCollection object at 0x306a65850>\n",
      "<matplotlib.collections.PathCollection object at 0x306a7dca0>\n"
     ]
    },
    {
     "data": {
      "text/plain": [
       "<Figure size 640x480 with 1 Axes>"
      ],
      "image/png": "[encoded data removed]"
     },
     "metadata": {},
     "output_type": "display_data"
    }
   ],
   "execution_count": 54
  },
  {
   "metadata": {
    "ExecuteTime": {
     "end_time": "2024-11-18T20:24:08.954849Z",
     "start_time": "2024-11-18T20:24:08.746850Z"
    }
   },
   "cell_type": "code",
   "source": [
    "## K-Means vs. DBSCAN\n",
    "\n",
    "# Building K-Means with K=5 and plotting clusters\n",
    "### Type your code here ###\n",
    "from sklearn.cluster import KMeans\n",
    "\n",
    "kmeans = KMeans(n_clusters=5)\n",
    "model = kmeans.fit(df)\n",
    "labels = model.predict(df)\n",
    "print(pyplot.scatter(df['x0'], df['x1'], c=labels, cmap='rainbow'))"
   ],
   "id": "d64501fd6f1e4840",
   "outputs": [
    {
     "name": "stdout",
     "output_type": "stream",
     "text": [
      "<matplotlib.collections.PathCollection object at 0x30aba80b0>\n"
     ]
    },
    {
     "data": {
      "text/plain": [
       "<Figure size 640x480 with 1 Axes>"
      ],
      "image/png": "[encoded data removed]"
     },
     "metadata": {},
     "output_type": "display_data"
    }
   ],
   "execution_count": 55
  },
  {
   "metadata": {
    "ExecuteTime": {
     "end_time": "2024-11-18T20:24:12.246091Z",
     "start_time": "2024-11-18T20:24:12.087222Z"
    }
   },
   "cell_type": "code",
   "source": [
    "\n",
    "\n",
    "# Running DBSCAN and plotting clusters\n",
    "### Type your code here ###\n",
    "from sklearn.cluster import DBSCAN\n",
    "\n",
    "dbscan = DBSCAN(eps=0.5, min_samples=4)\n",
    "labels = dbscan.fit_predict(df)\n",
    "print(pyplot.scatter(df['x0'], df['x1'], c=labels, cmap='rainbow')) "
   ],
   "id": "49b6c97c9c8697be",
   "outputs": [
    {
     "name": "stdout",
     "output_type": "stream",
     "text": [
      "<matplotlib.collections.PathCollection object at 0x30abdd9a0>\n"
     ]
    },
    {
     "data": {
      "text/plain": [
       "<Figure size 640x480 with 1 Axes>"
      ],
      "image/png": "[encoded data removed]"
     },
     "metadata": {},
     "output_type": "display_data"
    }
   ],
   "execution_count": 56
  }
 ],
 "metadata": {
  "kernelspec": {
   "display_name": "Python 3",
   "language": "python",
   "name": "python3"
  },
  "language_info": {
   "codemirror_mode": {
    "name": "ipython",
    "version": 2
   },
   "file_extension": ".py",
   "mimetype": "text/x-python",
   "name": "python",
   "nbconvert_exporter": "python",
   "pygments_lexer": "ipython2",
   "version": "2.7.6"
  }
 },
 "nbformat": 4,
 "nbformat_minor": 5
}
