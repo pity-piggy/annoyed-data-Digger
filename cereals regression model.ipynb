{
 "cells": [
  {
   "cell_type": "code",
   "id": "initial_id",
   "metadata": {
    "collapsed": true,
    "ExecuteTime": {
     "end_time": "2024-11-12T16:39:16.761190Z",
     "start_time": "2024-11-12T16:39:16.708090Z"
    }
   },
   "source": [
    "import pandas as pd\n",
    "import numpy as np"
   ],
   "outputs": [],
   "execution_count": 39
  },
  {
   "metadata": {
    "ExecuteTime": {
     "end_time": "2024-11-12T16:39:17.218647Z",
     "start_time": "2024-11-12T16:39:16.879613Z"
    }
   },
   "cell_type": "code",
   "source": [
    "df=pd.read_csv('/Users/hexiaoyu/Desktop/Courses/INSY- DATA MINING/cereals.CSV')\n",
    "# examining the nutrition showed on the package has any relationship with the cereals rating using linear regression "
   ],
   "id": "2a4adf79a403da50",
   "outputs": [],
   "execution_count": 40
  },
  {
   "metadata": {
    "ExecuteTime": {
     "end_time": "2024-11-12T16:39:17.316248Z",
     "start_time": "2024-11-12T16:39:17.278960Z"
    }
   },
   "cell_type": "code",
   "source": "df=df.dropna()",
   "id": "d586db2bb98ea36f",
   "outputs": [],
   "execution_count": 41
  },
  {
   "metadata": {
    "ExecuteTime": {
     "end_time": "2024-11-12T16:39:17.398080Z",
     "start_time": "2024-11-12T16:39:17.375175Z"
    }
   },
   "cell_type": "code",
   "source": "df.head()",
   "id": "b83a98158fd40a52",
   "outputs": [
    {
     "data": {
      "text/plain": [
       "                         Name Manuf Type  Calories  Protein  Fat  Sodium  \\\n",
       "0                  100%_Bran     N    C         70        4    1     130   \n",
       "1          100%_Natural_Bran     Q    C        120        3    5      15   \n",
       "2                   All-Bran     K    C         70        4    1     260   \n",
       "3  All-Bran_with_Extra_Fiber     K    C         50        4    0     140   \n",
       "5    Apple_Cinnamon_Cheerios     G    C        110        2    2     180   \n",
       "\n",
       "   Fiber  Carbo  Sugars  ...  Weight  Cups     Rating  Cold  Nabisco  Quaker  \\\n",
       "0   10.0    5.0     6.0  ...     1.0  0.33  68.402973     1        1       0   \n",
       "1    2.0    8.0     8.0  ...     1.0  1.00  33.983679     1        0       1   \n",
       "2    9.0    7.0     5.0  ...     1.0  0.33  59.425505     1        0       0   \n",
       "3   14.0    8.0     0.0  ...     1.0  0.50  93.704912     1        0       0   \n",
       "5    1.5   10.5    10.0  ...     1.0  0.75  29.509541     1        0       0   \n",
       "\n",
       "   Kelloggs  GeneralMills  Ralston  AHFP  \n",
       "0         0             0        0     0  \n",
       "1         0             0        0     0  \n",
       "2         1             0        0     0  \n",
       "3         1             0        0     0  \n",
       "5         0             1        0     0  \n",
       "\n",
       "[5 rows x 23 columns]"
      ],
      "text/html": [
       "<div>\n",
       "<style scoped>\n",
       "    .dataframe tbody tr th:only-of-type {\n",
       "        vertical-align: middle;\n",
       "    }\n",
       "\n",
       "    .dataframe tbody tr th {\n",
       "        vertical-align: top;\n",
       "    }\n",
       "\n",
       "    .dataframe thead th {\n",
       "        text-align: right;\n",
       "    }\n",
       "</style>\n",
       "<table border=\"1\" class=\"dataframe\">\n",
       "  <thead>\n",
       "    <tr style=\"text-align: right;\">\n",
       "      <th></th>\n",
       "      <th>Name</th>\n",
       "      <th>Manuf</th>\n",
       "      <th>Type</th>\n",
       "      <th>Calories</th>\n",
       "      <th>Protein</th>\n",
       "      <th>Fat</th>\n",
       "      <th>Sodium</th>\n",
       "      <th>Fiber</th>\n",
       "      <th>Carbo</th>\n",
       "      <th>Sugars</th>\n",
       "      <th>...</th>\n",
       "      <th>Weight</th>\n",
       "      <th>Cups</th>\n",
       "      <th>Rating</th>\n",
       "      <th>Cold</th>\n",
       "      <th>Nabisco</th>\n",
       "      <th>Quaker</th>\n",
       "      <th>Kelloggs</th>\n",
       "      <th>GeneralMills</th>\n",
       "      <th>Ralston</th>\n",
       "      <th>AHFP</th>\n",
       "    </tr>\n",
       "  </thead>\n",
       "  <tbody>\n",
       "    <tr>\n",
       "      <th>0</th>\n",
       "      <td>100%_Bran</td>\n",
       "      <td>N</td>\n",
       "      <td>C</td>\n",
       "      <td>70</td>\n",
       "      <td>4</td>\n",
       "      <td>1</td>\n",
       "      <td>130</td>\n",
       "      <td>10.0</td>\n",
       "      <td>5.0</td>\n",
       "      <td>6.0</td>\n",
       "      <td>...</td>\n",
       "      <td>1.0</td>\n",
       "      <td>0.33</td>\n",
       "      <td>68.402973</td>\n",
       "      <td>1</td>\n",
       "      <td>1</td>\n",
       "      <td>0</td>\n",
       "      <td>0</td>\n",
       "      <td>0</td>\n",
       "      <td>0</td>\n",
       "      <td>0</td>\n",
       "    </tr>\n",
       "    <tr>\n",
       "      <th>1</th>\n",
       "      <td>100%_Natural_Bran</td>\n",
       "      <td>Q</td>\n",
       "      <td>C</td>\n",
       "      <td>120</td>\n",
       "      <td>3</td>\n",
       "      <td>5</td>\n",
       "      <td>15</td>\n",
       "      <td>2.0</td>\n",
       "      <td>8.0</td>\n",
       "      <td>8.0</td>\n",
       "      <td>...</td>\n",
       "      <td>1.0</td>\n",
       "      <td>1.00</td>\n",
       "      <td>33.983679</td>\n",
       "      <td>1</td>\n",
       "      <td>0</td>\n",
       "      <td>1</td>\n",
       "      <td>0</td>\n",
       "      <td>0</td>\n",
       "      <td>0</td>\n",
       "      <td>0</td>\n",
       "    </tr>\n",
       "    <tr>\n",
       "      <th>2</th>\n",
       "      <td>All-Bran</td>\n",
       "      <td>K</td>\n",
       "      <td>C</td>\n",
       "      <td>70</td>\n",
       "      <td>4</td>\n",
       "      <td>1</td>\n",
       "      <td>260</td>\n",
       "      <td>9.0</td>\n",
       "      <td>7.0</td>\n",
       "      <td>5.0</td>\n",
       "      <td>...</td>\n",
       "      <td>1.0</td>\n",
       "      <td>0.33</td>\n",
       "      <td>59.425505</td>\n",
       "      <td>1</td>\n",
       "      <td>0</td>\n",
       "      <td>0</td>\n",
       "      <td>1</td>\n",
       "      <td>0</td>\n",
       "      <td>0</td>\n",
       "      <td>0</td>\n",
       "    </tr>\n",
       "    <tr>\n",
       "      <th>3</th>\n",
       "      <td>All-Bran_with_Extra_Fiber</td>\n",
       "      <td>K</td>\n",
       "      <td>C</td>\n",
       "      <td>50</td>\n",
       "      <td>4</td>\n",
       "      <td>0</td>\n",
       "      <td>140</td>\n",
       "      <td>14.0</td>\n",
       "      <td>8.0</td>\n",
       "      <td>0.0</td>\n",
       "      <td>...</td>\n",
       "      <td>1.0</td>\n",
       "      <td>0.50</td>\n",
       "      <td>93.704912</td>\n",
       "      <td>1</td>\n",
       "      <td>0</td>\n",
       "      <td>0</td>\n",
       "      <td>1</td>\n",
       "      <td>0</td>\n",
       "      <td>0</td>\n",
       "      <td>0</td>\n",
       "    </tr>\n",
       "    <tr>\n",
       "      <th>5</th>\n",
       "      <td>Apple_Cinnamon_Cheerios</td>\n",
       "      <td>G</td>\n",
       "      <td>C</td>\n",
       "      <td>110</td>\n",
       "      <td>2</td>\n",
       "      <td>2</td>\n",
       "      <td>180</td>\n",
       "      <td>1.5</td>\n",
       "      <td>10.5</td>\n",
       "      <td>10.0</td>\n",
       "      <td>...</td>\n",
       "      <td>1.0</td>\n",
       "      <td>0.75</td>\n",
       "      <td>29.509541</td>\n",
       "      <td>1</td>\n",
       "      <td>0</td>\n",
       "      <td>0</td>\n",
       "      <td>0</td>\n",
       "      <td>1</td>\n",
       "      <td>0</td>\n",
       "      <td>0</td>\n",
       "    </tr>\n",
       "  </tbody>\n",
       "</table>\n",
       "<p>5 rows × 23 columns</p>\n",
       "</div>"
      ]
     },
     "execution_count": 42,
     "metadata": {},
     "output_type": "execute_result"
    }
   ],
   "execution_count": 42
  },
  {
   "metadata": {
    "ExecuteTime": {
     "end_time": "2024-11-12T16:39:17.425319Z",
     "start_time": "2024-11-12T16:39:17.421491Z"
    }
   },
   "cell_type": "code",
   "source": [
    "# construct x and y \n",
    "X=df.iloc[:,3:12]\n",
    "y=df['Rating']"
   ],
   "id": "481404fdcc3e9d19",
   "outputs": [],
   "execution_count": 43
  },
  {
   "metadata": {
    "ExecuteTime": {
     "end_time": "2024-11-12T16:39:17.662504Z",
     "start_time": "2024-11-12T16:39:17.583128Z"
    }
   },
   "cell_type": "code",
   "source": [
    "#standarize predictor \n",
    "from sklearn.preprocessing import StandardScaler\n",
    "### Type your code here ###\n",
    "scaler=StandardScaler()\n",
    "scaled_X = scaler.fit_transform(X) \n",
    "scaled_X = pd.DataFrame(scaled_X, columns=X.columns) \n",
    "scaled_X"
   ],
   "id": "fa0f85421a45390f",
   "outputs": [
    {
     "data": {
      "text/plain": [
       "    Calories   Protein  Fat    Sodium     Fiber     Carbo    Sugars    Potass  \\\n",
       "0  -1.878652  1.391180  0.0 -0.393692  3.250706 -2.517206 -0.255940  2.578001   \n",
       "1   0.658214  0.455295  4.0 -1.792572 -0.072986 -1.741067  0.206001  0.518288   \n",
       "2  -1.878652  1.391180  0.0  1.187651  2.835245 -1.999780 -0.486911  3.146198   \n",
       "3  -2.893399  1.391180 -1.0 -0.272050  4.912553 -1.741067 -1.641763  3.288247   \n",
       "4   0.150841 -0.480589  1.0  0.214517 -0.280717 -1.094285  0.667942 -0.405032   \n",
       "..       ...       ...  ...       ...       ...       ...       ...       ...   \n",
       "69  0.150841 -0.480589  0.0  1.066009 -0.903910  1.622199 -0.948852 -0.547081   \n",
       "70  0.150841 -1.416474  0.0 -0.272050 -0.903910 -0.447503  1.129883 -1.044254   \n",
       "71 -0.356533  0.455295  0.0  0.822725  0.342475  0.587348 -0.948852  0.234189   \n",
       "72 -0.356533  0.455295  0.0  0.457800  0.342475  0.587348 -0.948852  0.163165   \n",
       "73  0.150841 -0.480589  0.0  0.457800 -0.488448  0.328635  0.206001 -0.547081   \n",
       "\n",
       "    Vitamins  \n",
       "0  -0.183083  \n",
       "1  -1.312098  \n",
       "2  -0.183083  \n",
       "3  -0.183083  \n",
       "4  -0.183083  \n",
       "..       ...  \n",
       "69 -0.183083  \n",
       "70 -0.183083  \n",
       "71 -0.183083  \n",
       "72 -0.183083  \n",
       "73 -0.183083  \n",
       "\n",
       "[74 rows x 9 columns]"
      ],
      "text/html": [
       "<div>\n",
       "<style scoped>\n",
       "    .dataframe tbody tr th:only-of-type {\n",
       "        vertical-align: middle;\n",
       "    }\n",
       "\n",
       "    .dataframe tbody tr th {\n",
       "        vertical-align: top;\n",
       "    }\n",
       "\n",
       "    .dataframe thead th {\n",
       "        text-align: right;\n",
       "    }\n",
       "</style>\n",
       "<table border=\"1\" class=\"dataframe\">\n",
       "  <thead>\n",
       "    <tr style=\"text-align: right;\">\n",
       "      <th></th>\n",
       "      <th>Calories</th>\n",
       "      <th>Protein</th>\n",
       "      <th>Fat</th>\n",
       "      <th>Sodium</th>\n",
       "      <th>Fiber</th>\n",
       "      <th>Carbo</th>\n",
       "      <th>Sugars</th>\n",
       "      <th>Potass</th>\n",
       "      <th>Vitamins</th>\n",
       "    </tr>\n",
       "  </thead>\n",
       "  <tbody>\n",
       "    <tr>\n",
       "      <th>0</th>\n",
       "      <td>-1.878652</td>\n",
       "      <td>1.391180</td>\n",
       "      <td>0.0</td>\n",
       "      <td>-0.393692</td>\n",
       "      <td>3.250706</td>\n",
       "      <td>-2.517206</td>\n",
       "      <td>-0.255940</td>\n",
       "      <td>2.578001</td>\n",
       "      <td>-0.183083</td>\n",
       "    </tr>\n",
       "    <tr>\n",
       "      <th>1</th>\n",
       "      <td>0.658214</td>\n",
       "      <td>0.455295</td>\n",
       "      <td>4.0</td>\n",
       "      <td>-1.792572</td>\n",
       "      <td>-0.072986</td>\n",
       "      <td>-1.741067</td>\n",
       "      <td>0.206001</td>\n",
       "      <td>0.518288</td>\n",
       "      <td>-1.312098</td>\n",
       "    </tr>\n",
       "    <tr>\n",
       "      <th>2</th>\n",
       "      <td>-1.878652</td>\n",
       "      <td>1.391180</td>\n",
       "      <td>0.0</td>\n",
       "      <td>1.187651</td>\n",
       "      <td>2.835245</td>\n",
       "      <td>-1.999780</td>\n",
       "      <td>-0.486911</td>\n",
       "      <td>3.146198</td>\n",
       "      <td>-0.183083</td>\n",
       "    </tr>\n",
       "    <tr>\n",
       "      <th>3</th>\n",
       "      <td>-2.893399</td>\n",
       "      <td>1.391180</td>\n",
       "      <td>-1.0</td>\n",
       "      <td>-0.272050</td>\n",
       "      <td>4.912553</td>\n",
       "      <td>-1.741067</td>\n",
       "      <td>-1.641763</td>\n",
       "      <td>3.288247</td>\n",
       "      <td>-0.183083</td>\n",
       "    </tr>\n",
       "    <tr>\n",
       "      <th>4</th>\n",
       "      <td>0.150841</td>\n",
       "      <td>-0.480589</td>\n",
       "      <td>1.0</td>\n",
       "      <td>0.214517</td>\n",
       "      <td>-0.280717</td>\n",
       "      <td>-1.094285</td>\n",
       "      <td>0.667942</td>\n",
       "      <td>-0.405032</td>\n",
       "      <td>-0.183083</td>\n",
       "    </tr>\n",
       "    <tr>\n",
       "      <th>...</th>\n",
       "      <td>...</td>\n",
       "      <td>...</td>\n",
       "      <td>...</td>\n",
       "      <td>...</td>\n",
       "      <td>...</td>\n",
       "      <td>...</td>\n",
       "      <td>...</td>\n",
       "      <td>...</td>\n",
       "      <td>...</td>\n",
       "    </tr>\n",
       "    <tr>\n",
       "      <th>69</th>\n",
       "      <td>0.150841</td>\n",
       "      <td>-0.480589</td>\n",
       "      <td>0.0</td>\n",
       "      <td>1.066009</td>\n",
       "      <td>-0.903910</td>\n",
       "      <td>1.622199</td>\n",
       "      <td>-0.948852</td>\n",
       "      <td>-0.547081</td>\n",
       "      <td>-0.183083</td>\n",
       "    </tr>\n",
       "    <tr>\n",
       "      <th>70</th>\n",
       "      <td>0.150841</td>\n",
       "      <td>-1.416474</td>\n",
       "      <td>0.0</td>\n",
       "      <td>-0.272050</td>\n",
       "      <td>-0.903910</td>\n",
       "      <td>-0.447503</td>\n",
       "      <td>1.129883</td>\n",
       "      <td>-1.044254</td>\n",
       "      <td>-0.183083</td>\n",
       "    </tr>\n",
       "    <tr>\n",
       "      <th>71</th>\n",
       "      <td>-0.356533</td>\n",
       "      <td>0.455295</td>\n",
       "      <td>0.0</td>\n",
       "      <td>0.822725</td>\n",
       "      <td>0.342475</td>\n",
       "      <td>0.587348</td>\n",
       "      <td>-0.948852</td>\n",
       "      <td>0.234189</td>\n",
       "      <td>-0.183083</td>\n",
       "    </tr>\n",
       "    <tr>\n",
       "      <th>72</th>\n",
       "      <td>-0.356533</td>\n",
       "      <td>0.455295</td>\n",
       "      <td>0.0</td>\n",
       "      <td>0.457800</td>\n",
       "      <td>0.342475</td>\n",
       "      <td>0.587348</td>\n",
       "      <td>-0.948852</td>\n",
       "      <td>0.163165</td>\n",
       "      <td>-0.183083</td>\n",
       "    </tr>\n",
       "    <tr>\n",
       "      <th>73</th>\n",
       "      <td>0.150841</td>\n",
       "      <td>-0.480589</td>\n",
       "      <td>0.0</td>\n",
       "      <td>0.457800</td>\n",
       "      <td>-0.488448</td>\n",
       "      <td>0.328635</td>\n",
       "      <td>0.206001</td>\n",
       "      <td>-0.547081</td>\n",
       "      <td>-0.183083</td>\n",
       "    </tr>\n",
       "  </tbody>\n",
       "</table>\n",
       "<p>74 rows × 9 columns</p>\n",
       "</div>"
      ]
     },
     "execution_count": 44,
     "metadata": {},
     "output_type": "execute_result"
    }
   ],
   "execution_count": 44
  },
  {
   "metadata": {
    "ExecuteTime": {
     "end_time": "2024-11-12T16:39:17.966366Z",
     "start_time": "2024-11-12T16:39:17.796096Z"
    }
   },
   "cell_type": "code",
   "source": [
    "### model building ###\n",
    "from sklearn.linear_model import LinearRegression\n",
    "Im = LinearRegression()\n",
    "model = Im. fit(scaled_X, y) # fit the model \n",
    "y_pred = model.predict(scaled_X)"
   ],
   "id": "b61f107af748aa55",
   "outputs": [],
   "execution_count": 45
  },
  {
   "metadata": {
    "ExecuteTime": {
     "end_time": "2024-11-12T16:39:18.015429Z",
     "start_time": "2024-11-12T16:39:18.011717Z"
    }
   },
   "cell_type": "code",
   "source": "y_pred",
   "id": "f64308bfdeeb0bad",
   "outputs": [
    {
     "data": {
      "text/plain": [
       "array([68.40297282, 33.98367896, 59.42550472, 93.70491234, 29.50954066,\n",
       "       33.17409435, 37.0385619 , 49.12025292, 53.31381285, 18.04285082,\n",
       "       50.76499891, 19.8235727 , 40.40020799, 22.7364464 , 41.44501943,\n",
       "       45.86332453, 35.78279074, 22.39651288, 40.44877238, 46.89564363,\n",
       "       36.17619619, 44.33085567, 32.20758153, 31.43597282, 58.34514142,\n",
       "       40.91704688, 41.0154918 , 28.02576464, 35.2524438 , 23.80404307,\n",
       "       52.07689664, 53.37100724, 45.8117159 , 21.87129221, 31.07221727,\n",
       "       28.74241356, 36.5236833 , 36.4715121 , 39.24111428, 45.32807423,\n",
       "       26.7345154 , 54.85091715, 37.13686307, 34.13976445, 30.31335105,\n",
       "       40.10596491, 29.92428522, 40.69232044, 59.64283672, 30.45084348,\n",
       "       37.84059397, 41.50354003, 60.75611179, 63.00564526, 49.51187437,\n",
       "       39.25919733, 39.70339974, 55.33314201, 41.99893296, 40.56015889,\n",
       "       68.2358847 , 74.47294875, 72.80178696, 31.23005446, 53.13132353,\n",
       "       59.36399342, 38.83974546, 28.59278471, 46.65884421, 39.10617427,\n",
       "       27.75330113, 49.78744506, 51.59219289, 36.18755874])"
      ]
     },
     "execution_count": 46,
     "metadata": {},
     "output_type": "execute_result"
    }
   ],
   "execution_count": 46
  },
  {
   "metadata": {
    "ExecuteTime": {
     "end_time": "2024-11-12T16:39:18.056543Z",
     "start_time": "2024-11-12T16:39:18.052559Z"
    }
   },
   "cell_type": "code",
   "source": [
    "# View coefficient results \n",
    "print(pd.DataFrame(model.coef_, scaled_X.columns, columns=['Coefficients']))"
   ],
   "id": "cf7376ebe9e183c0",
   "outputs": [
    {
     "name": "stdout",
     "output_type": "stream",
     "text": [
      "          Coefficients\n",
      "Calories     -4.389750\n",
      "Protein       3.497412\n",
      "Fat          -1.691408\n",
      "Sodium       -4.479770\n",
      "Fiber         8.288322\n",
      "Carbo         4.222640\n",
      "Sugars       -3.138475\n",
      "Potass       -2.393069\n",
      "Vitamins     -1.133997\n"
     ]
    }
   ],
   "execution_count": 47
  },
  {
   "metadata": {},
   "cell_type": "markdown",
   "source": [
    "that's the end of the model prediction part from there we could interpret the coefficient and the connection between predictors \n",
    "and the targeted variable. \n",
    "\n",
    "\n",
    "in this case, most obvious trends shows that high calories, high sodium reduce the cereal rating while high fiber, carbo and protein have positive effect on the rating especially the fiber. \n",
    "\n",
    "\n",
    "reflection: this model we do not have the muticollinearity test among the predictor, the results could be different if there is collinearity exists. "
   ],
   "id": "33f604412e642822"
  },
  {
   "metadata": {
    "ExecuteTime": {
     "end_time": "2024-11-12T16:39:18.098130Z",
     "start_time": "2024-11-12T16:39:18.078202Z"
    }
   },
   "cell_type": "code",
   "source": [
    "### logistic regression model ### (classification) \n",
    "df['binary_rating']=df['Rating'].apply(lambda x: 1 if x>50 else 0)\n",
    "y = df['binary_rating']"
   ],
   "id": "8d753647770e64a4",
   "outputs": [],
   "execution_count": 48
  },
  {
   "metadata": {
    "ExecuteTime": {
     "end_time": "2024-11-12T17:12:54.018738Z",
     "start_time": "2024-11-12T17:12:53.858437Z"
    }
   },
   "cell_type": "code",
   "source": [
    "from sklearn.linear_model import LogisticRegression\n",
    "Ir = LogisticRegression (penalty=None)\n",
    "model_Ir = Ir. fit(scaled_X,y)\n",
    "y_pred = model_Ir.predict(scaled_X)\n",
    "y_pred\n"
   ],
   "id": "cec42c46a834b238",
   "outputs": [
    {
     "data": {
      "text/plain": [
       "array([1, 0, 1, 1, 0, 0, 0, 0, 1, 0, 1, 0, 0, 0, 0, 0, 0, 0, 0, 0, 0, 0,\n",
       "       0, 0, 1, 0, 0, 0, 0, 0, 1, 1, 0, 0, 0, 0, 0, 0, 0, 0, 0, 1, 0, 0,\n",
       "       0, 0, 0, 0, 1, 0, 0, 0, 1, 1, 0, 0, 0, 1, 0, 0, 1, 1, 1, 0, 1, 1,\n",
       "       0, 0, 0, 0, 0, 0, 1, 0])"
      ]
     },
     "execution_count": 53,
     "metadata": {},
     "output_type": "execute_result"
    }
   ],
   "execution_count": 53
  },
  {
   "metadata": {
    "ExecuteTime": {
     "end_time": "2024-11-12T16:39:18.447373Z",
     "start_time": "2024-11-12T16:39:18.435589Z"
    }
   },
   "cell_type": "code",
   "source": [
    "y_pred_prob = model_Ir.predict_proba(scaled_X)\n",
    "y_pred_prob\n",
    "# the probability of being in 0 or 1 \n"
   ],
   "id": "81a7e1bb2d36400c",
   "outputs": [
    {
     "data": {
      "text/plain": [
       "array([[0.00000000e+00, 1.00000000e+00],\n",
       "       [1.00000000e+00, 4.92768167e-30],\n",
       "       [5.78037618e-11, 1.00000000e+00],\n",
       "       [0.00000000e+00, 1.00000000e+00],\n",
       "       [1.00000000e+00, 1.45484112e-41],\n",
       "       [1.00000000e+00, 6.43944656e-35],\n",
       "       [1.00000000e+00, 5.46539891e-26],\n",
       "       [9.99999999e-01, 1.48202225e-09],\n",
       "       [1.57327980e-05, 9.99984267e-01],\n",
       "       [1.00000000e+00, 2.04917426e-63],\n",
       "       [1.46666948e-03, 9.98533331e-01],\n",
       "       [1.00000000e+00, 2.09256404e-59],\n",
       "       [1.00000000e+00, 1.54181973e-19],\n",
       "       [1.00000000e+00, 1.19056979e-56],\n",
       "       [1.00000000e+00, 5.17318283e-16],\n",
       "       [9.99999998e-01, 2.30118056e-09],\n",
       "       [1.00000000e+00, 1.42576060e-28],\n",
       "       [1.00000000e+00, 2.80797593e-57],\n",
       "       [1.00000000e+00, 9.82821469e-20],\n",
       "       [9.99848168e-01, 1.51831885e-04],\n",
       "       [1.00000000e+00, 2.54381426e-30],\n",
       "       [1.00000000e+00, 1.74528874e-12],\n",
       "       [1.00000000e+00, 4.59443155e-38],\n",
       "       [1.00000000e+00, 2.56014976e-37],\n",
       "       [0.00000000e+00, 1.00000000e+00],\n",
       "       [1.00000000e+00, 1.58965402e-19],\n",
       "       [1.00000000e+00, 1.29375801e-19],\n",
       "       [1.00000000e+00, 5.93429810e-46],\n",
       "       [1.00000000e+00, 3.90631742e-35],\n",
       "       [1.00000000e+00, 7.28194492e-53],\n",
       "       [2.87597497e-03, 9.97124025e-01],\n",
       "       [8.09352585e-13, 1.00000000e+00],\n",
       "       [9.99126039e-01, 8.73960673e-04],\n",
       "       [1.00000000e+00, 3.95567452e-55],\n",
       "       [1.00000000e+00, 7.35710373e-38],\n",
       "       [1.00000000e+00, 9.02767188e-42],\n",
       "       [1.00000000e+00, 8.56548319e-30],\n",
       "       [1.00000000e+00, 3.70241011e-27],\n",
       "       [1.00000000e+00, 1.10521334e-21],\n",
       "       [1.00000000e+00, 6.81109833e-12],\n",
       "       [1.00000000e+00, 5.38301664e-48],\n",
       "       [1.57740487e-12, 1.00000000e+00],\n",
       "       [1.00000000e+00, 4.53745536e-23],\n",
       "       [1.00000000e+00, 3.44100569e-29],\n",
       "       [1.00000000e+00, 1.51387910e-33],\n",
       "       [1.00000000e+00, 4.15126788e-22],\n",
       "       [1.00000000e+00, 3.65171775e-37],\n",
       "       [1.00000000e+00, 1.18153600e-17],\n",
       "       [0.00000000e+00, 1.00000000e+00],\n",
       "       [1.00000000e+00, 8.45728815e-36],\n",
       "       [1.00000000e+00, 4.47791534e-28],\n",
       "       [1.00000000e+00, 6.76343622e-22],\n",
       "       [0.00000000e+00, 1.00000000e+00],\n",
       "       [0.00000000e+00, 1.00000000e+00],\n",
       "       [9.97110696e-01, 2.88930384e-03],\n",
       "       [1.00000000e+00, 2.01607038e-25],\n",
       "       [1.00000000e+00, 1.62870110e-23],\n",
       "       [5.32062328e-09, 9.99999995e-01],\n",
       "       [1.00000000e+00, 7.34742910e-14],\n",
       "       [1.00000000e+00, 9.41122140e-18],\n",
       "       [0.00000000e+00, 1.00000000e+00],\n",
       "       [0.00000000e+00, 1.00000000e+00],\n",
       "       [0.00000000e+00, 1.00000000e+00],\n",
       "       [1.00000000e+00, 3.45692838e-40],\n",
       "       [1.14086518e-12, 1.00000000e+00],\n",
       "       [0.00000000e+00, 1.00000000e+00],\n",
       "       [1.00000000e+00, 3.03749204e-25],\n",
       "       [1.00000000e+00, 8.59991765e-45],\n",
       "       [1.00000000e+00, 2.59580526e-10],\n",
       "       [1.00000000e+00, 7.97027899e-22],\n",
       "       [1.00000000e+00, 1.64814030e-46],\n",
       "       [9.82151093e-01, 1.78489067e-02],\n",
       "       [1.21154917e-02, 9.87884508e-01],\n",
       "       [1.00000000e+00, 2.98735553e-29]])"
      ]
     },
     "execution_count": 50,
     "metadata": {},
     "output_type": "execute_result"
    }
   ],
   "execution_count": 50
  },
  {
   "metadata": {
    "ExecuteTime": {
     "end_time": "2024-11-12T16:39:18.579510Z",
     "start_time": "2024-11-12T16:39:18.508458Z"
    }
   },
   "cell_type": "code",
   "source": "print(pd.DataFrame(model_Ir.coef_[0], scaled_X.columns, columns=['Coefficients']))\n",
   "id": "74aed359f0ff9fce",
   "outputs": [
    {
     "name": "stdout",
     "output_type": "stream",
     "text": [
      "          Coefficients\n",
      "Calories     -1.911876\n",
      "Protein      14.252932\n",
      "Fat         -13.835753\n",
      "Sodium      -21.063515\n",
      "Fiber        33.535104\n",
      "Carbo         8.419365\n",
      "Sugars      -28.533516\n",
      "Potass      -10.169386\n",
      "Vitamins     -7.172873\n"
     ]
    }
   ],
   "execution_count": 51
  },
  {
   "metadata": {},
   "cell_type": "markdown",
   "source": [
    "the coefficient of logistic regression interpretation: the positive coefficient means as 1 unit of variable increase, it increase the likelihood to be 1. vice versa, the negative coefficient means that 1 unit increase, it decrease the likelihood to be 1 ( more likely to be 0)  \n",
    "\n",
    "in this case, we can tell that as sugar increase, the rating would most likely to be 0 which indicating the rating below 50. while the fiber is the opposite side. considering the factors influencing rating surpass the 50 threhold or not, fiber, protein has the most positive power while the sugar, solium has the most negative power consequently. "
   ],
   "id": "bd9f5bc87e31f1f0"
  },
  {
   "metadata": {},
   "cell_type": "markdown",
   "source": "",
   "id": "de858f6a2e1b15f5"
  }
 ],
 "metadata": {
  "kernelspec": {
   "display_name": "Python 3",
   "language": "python",
   "name": "python3"
  },
  "language_info": {
   "codemirror_mode": {
    "name": "ipython",
    "version": 2
   },
   "file_extension": ".py",
   "mimetype": "text/x-python",
   "name": "python",
   "nbconvert_exporter": "python",
   "pygments_lexer": "ipython2",
   "version": "2.7.6"
  }
 },
 "nbformat": 4,
 "nbformat_minor": 5
}
