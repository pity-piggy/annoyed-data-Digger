{
 "cells": [
  {
   "cell_type": "code",
   "id": "initial_id",
   "metadata": {
    "collapsed": true,
    "ExecuteTime": {
     "end_time": "2024-11-12T19:37:51.993233Z",
     "start_time": "2024-11-12T19:37:51.844350Z"
    }
   },
   "source": [
    "### data preprocessing ###\n",
    "import pandas as pd \n",
    "import numpy as np\n",
    "df=pd.read_csv('/Users/hexiaoyu/Desktop/Courses/INSY- DATA MINING/cereals.CSV')\n",
    "df=df.dropna()"
   ],
   "outputs": [],
   "execution_count": 20
  },
  {
   "metadata": {
    "ExecuteTime": {
     "end_time": "2024-11-12T19:37:52.014923Z",
     "start_time": "2024-11-12T19:37:52.000131Z"
    }
   },
   "cell_type": "code",
   "source": [
    "#construct predictors and target variables\n",
    "X=df.iloc[:,3:12]\n",
    "y=df['Rating']"
   ],
   "id": "75afecb801e39f0a",
   "outputs": [],
   "execution_count": 21
  },
  {
   "metadata": {
    "ExecuteTime": {
     "end_time": "2024-11-12T19:37:52.090279Z",
     "start_time": "2024-11-12T19:37:52.068397Z"
    }
   },
   "cell_type": "code",
   "source": [
    "# split the training and testing dataset \n",
    "from sklearn.model_selection import train_test_split\n",
    "X_train, X_test, y_train, y_test= train_test_split(X, y, test_size= 0.33, random_state= 5)"
   ],
   "id": "56b88eb1475beda6",
   "outputs": [],
   "execution_count": 22
  },
  {
   "metadata": {
    "ExecuteTime": {
     "end_time": "2024-11-12T19:37:52.166385Z",
     "start_time": "2024-11-12T19:37:52.148399Z"
    }
   },
   "cell_type": "code",
   "source": [
    "# standardize x\n",
    "from sklearn.preprocessing import StandardScaler\n",
    "scaler=StandardScaler()\n",
    "scaled_X_train= scaler.fit_transform(X_train)\n",
    "scaled_X_test= scaler.transform(X_test)\n",
    "\n",
    "scaled_X_train = pd.DataFrame(scaled_X_train, columns=X_train.columns)\n",
    "scaled_X_test = pd.DataFrame(scaled_X_test, columns=X_test.columns)"
   ],
   "id": "785bbd51d9708796",
   "outputs": [],
   "execution_count": 23
  },
  {
   "metadata": {
    "ExecuteTime": {
     "end_time": "2024-11-12T19:37:52.243676Z",
     "start_time": "2024-11-12T19:37:52.219758Z"
    }
   },
   "cell_type": "code",
   "source": [
    "### model building with cross validation evaluation ###\n",
    "from sklearn.linear_model import LinearRegression\n",
    "lm = LinearRegression()\n",
    "model = lm. fit(scaled_X_train,y_train)\n",
    "y_test_pred = model.predict(scaled_X_test)\n",
    "## use mse and mape metrics\n",
    "from sklearn.metrics import mean_squared_error, mean_absolute_percentage_error\n",
    "lm_mse = mean_squared_error(y_test, y_test_pred)  ## (true value, the predicted value)\n",
    "lm_mape = mean_absolute_percentage_error(y_test, y_test_pred)"
   ],
   "id": "426fd4670bcac41",
   "outputs": [],
   "execution_count": 24
  },
  {
   "metadata": {
    "ExecuteTime": {
     "end_time": "2024-11-12T19:37:52.310298Z",
     "start_time": "2024-11-12T19:37:52.306438Z"
    }
   },
   "cell_type": "code",
   "source": [
    "print(lm_mse) \n",
    "print(lm_mape)"
   ],
   "id": "25562489ad40b79",
   "outputs": [
    {
     "name": "stdout",
     "output_type": "stream",
     "text": [
      "1.066270468838969e-13\n",
      "7.437424502194683e-09\n"
     ]
    }
   ],
   "execution_count": 25
  },
  {
   "metadata": {},
   "cell_type": "markdown",
   "source": [
    "the mse and mape is closely to 0, which is good sign for modelling performance in general, but also indicating it may has overfitting issues \n",
    "\n",
    "the thing is we have to split the training and testing data first before standardize them as it may lead to data leakage if we scaler the whole X, making the X_test meaningless. "
   ],
   "id": "32cd1d72e9618b58"
  },
  {
   "metadata": {
    "ExecuteTime": {
     "end_time": "2024-11-12T19:37:52.371028Z",
     "start_time": "2024-11-12T19:37:52.361108Z"
    }
   },
   "cell_type": "code",
   "source": [
    "### data preprocessing ###\n",
    "import pandas as pd\n",
    "df = pd.read_csv('/Users/hexiaoyu/Desktop/Courses/INSY- DATA MINING/cereals.CSV')\n",
    "df = df.dropna()\n",
    "#construct predictors and target variables\n",
    "X = df.iloc[:, 3:12]\n",
    "y = df['Rating']\n",
    "# standardize the X\n",
    "scaler=StandardScaler()\n",
    "scaled_X= scaler.fit_transform(X)\n",
    "scaled_X = pd.DataFrame(scaled_X, columns=X.columns)"
   ],
   "id": "65ac9086b54b2b35",
   "outputs": [],
   "execution_count": 26
  },
  {
   "metadata": {
    "ExecuteTime": {
     "end_time": "2024-11-12T19:37:52.446454Z",
     "start_time": "2024-11-12T19:37:52.421877Z"
    }
   },
   "cell_type": "code",
   "source": [
    "### linear regression with k fold cv ####\n",
    "lm2 = LinearRegression() \n",
    "from sklearn.model_selection import cross_validate\n",
    "lm_score= cross_validate(lm2, scaled_X, y, scoring='neg_mean_squared_error',cv=5, return_estimator=True)\n",
    "lm_score['test_score'].mean()\n",
    "# mse scores "
   ],
   "id": "ff13025a9fbf951f",
   "outputs": [
    {
     "data": {
      "text/plain": [
       "np.float64(-1.217630360834181e-13)"
      ]
     },
     "execution_count": 27,
     "metadata": {},
     "output_type": "execute_result"
    }
   ],
   "execution_count": 27
  },
  {
   "metadata": {},
   "cell_type": "markdown",
   "source": "negating MSE, it aligns with this convention (lower MSE is better in regression).",
   "id": "835e34a59ff725f7"
  },
  {
   "metadata": {
    "ExecuteTime": {
     "end_time": "2024-11-12T19:38:50.492927Z",
     "start_time": "2024-11-12T19:38:50.440707Z"
    }
   },
   "cell_type": "code",
   "source": [
    "for model in lm_score['estimator']:\n",
    "    print(pd.DataFrame(model.coef_, X.columns, columns=['Coefficients']))"
   ],
   "id": "4fd08efd54637b3b",
   "outputs": [
    {
     "name": "stdout",
     "output_type": "stream",
     "text": [
      "          Coefficients\n",
      "Calories     -4.389750\n",
      "Protein       3.497412\n",
      "Fat          -1.691408\n",
      "Sodium       -4.479770\n",
      "Fiber         8.288322\n",
      "Carbo         4.222640\n",
      "Sugars       -3.138475\n",
      "Potass       -2.393069\n",
      "Vitamins     -1.133997\n",
      "          Coefficients\n",
      "Calories     -4.389750\n",
      "Protein       3.497412\n",
      "Fat          -1.691408\n",
      "Sodium       -4.479770\n",
      "Fiber         8.288322\n",
      "Carbo         4.222640\n",
      "Sugars       -3.138475\n",
      "Potass       -2.393069\n",
      "Vitamins     -1.133997\n",
      "          Coefficients\n",
      "Calories     -4.389750\n",
      "Protein       3.497412\n",
      "Fat          -1.691408\n",
      "Sodium       -4.479770\n",
      "Fiber         8.288322\n",
      "Carbo         4.222640\n",
      "Sugars       -3.138475\n",
      "Potass       -2.393069\n",
      "Vitamins     -1.133997\n",
      "          Coefficients\n",
      "Calories     -4.389750\n",
      "Protein       3.497412\n",
      "Fat          -1.691408\n",
      "Sodium       -4.479770\n",
      "Fiber         8.288322\n",
      "Carbo         4.222640\n",
      "Sugars       -3.138475\n",
      "Potass       -2.393069\n",
      "Vitamins     -1.133997\n",
      "          Coefficients\n",
      "Calories     -4.389750\n",
      "Protein       3.497412\n",
      "Fat          -1.691408\n",
      "Sodium       -4.479770\n",
      "Fiber         8.288322\n",
      "Carbo         4.222640\n",
      "Sugars       -3.138475\n",
      "Potass       -2.393069\n",
      "Vitamins     -1.133997\n"
     ]
    }
   ],
   "execution_count": 31
  },
  {
   "metadata": {
    "ExecuteTime": {
     "end_time": "2024-11-12T19:37:52.742057Z",
     "start_time": "2024-11-12T19:37:52.584296Z"
    }
   },
   "cell_type": "code",
   "source": [
    "# tuning parameter k # (testing different k values)\n",
    "for i in range (3,11):\n",
    "    score = cross_validate(lm2, scaled_X, y, scoring='neg_mean_squared_error',cv=i, return_estimator=True)\n",
    "    print(\"MSE using k-fold CV with \",i,\" folds = \"+str(score['test_score'].mean()))"
   ],
   "id": "26bb3f265a875a5f",
   "outputs": [
    {
     "name": "stdout",
     "output_type": "stream",
     "text": [
      "MSE using k-fold CV with  3  folds = -1.1242906642051351e-13\n",
      "MSE using k-fold CV with  4  folds = -1.2242532774438526e-13\n",
      "MSE using k-fold CV with  5  folds = -1.217630360834181e-13\n",
      "MSE using k-fold CV with  6  folds = -1.1755147470947026e-13\n",
      "MSE using k-fold CV with  7  folds = -1.210323331490777e-13\n",
      "MSE using k-fold CV with  8  folds = -1.1682305476984324e-13\n",
      "MSE using k-fold CV with  9  folds = -1.1659321169101175e-13\n",
      "MSE using k-fold CV with  10  folds = -1.1376693412507738e-13\n"
     ]
    }
   ],
   "execution_count": 29
  },
  {
   "metadata": {
    "ExecuteTime": {
     "end_time": "2024-11-12T19:37:52.994297Z",
     "start_time": "2024-11-12T19:37:52.845088Z"
    }
   },
   "cell_type": "code",
   "source": [
    "### LOOCV ####\n",
    "lm3 = LinearRegression()\n",
    "from sklearn.model_selection import LeaveOneOut\n",
    "score = cross_validate(lm3, scaled_X, y, scoring='neg_mean_squared_error', cv=LeaveOneOut())\n",
    "score['test_score'].mean()"
   ],
   "id": "ca21f57389363164",
   "outputs": [
    {
     "data": {
      "text/plain": [
       "np.float64(-1.1423334207926656e-13)"
      ]
     },
     "execution_count": 30,
     "metadata": {},
     "output_type": "execute_result"
    }
   ],
   "execution_count": 30
  },
  {
   "metadata": {},
   "cell_type": "markdown",
   "source": [
    "## Regularization :\n",
    "by adding extra bias (technically by shrinking the coefficient) into training data to mitigate the overfitting issue on tranining data and improve performance"
   ],
   "id": "4e3b6eb655884f85"
  },
  {
   "metadata": {
    "ExecuteTime": {
     "end_time": "2024-11-12T21:09:53.948785Z",
     "start_time": "2024-11-12T21:09:53.737642Z"
    }
   },
   "cell_type": "code",
   "source": [
    "### ridge regression model###\n",
    "from sklearn.linear_model import Ridge\n",
    "ridge = Ridge(alpha=1)\n",
    "ridge_model= ridge.fit(scaled_X_train,y_train)\n",
    "pd.DataFrame(ridge_model.coef_, X.columns, columns=['Coefficients']) "
   ],
   "id": "9f6bb425eb537dc9",
   "outputs": [
    {
     "data": {
      "text/plain": [
       "          Coefficients\n",
       "Calories     -3.753828\n",
       "Protein       2.949761\n",
       "Fat          -2.635585\n",
       "Sodium       -4.435950\n",
       "Fiber         7.493458\n",
       "Carbo         3.168961\n",
       "Sugars       -4.648187\n",
       "Potass       -0.983930\n",
       "Vitamins     -1.198434"
      ],
      "text/html": [
       "<div>\n",
       "<style scoped>\n",
       "    .dataframe tbody tr th:only-of-type {\n",
       "        vertical-align: middle;\n",
       "    }\n",
       "\n",
       "    .dataframe tbody tr th {\n",
       "        vertical-align: top;\n",
       "    }\n",
       "\n",
       "    .dataframe thead th {\n",
       "        text-align: right;\n",
       "    }\n",
       "</style>\n",
       "<table border=\"1\" class=\"dataframe\">\n",
       "  <thead>\n",
       "    <tr style=\"text-align: right;\">\n",
       "      <th></th>\n",
       "      <th>Coefficients</th>\n",
       "    </tr>\n",
       "  </thead>\n",
       "  <tbody>\n",
       "    <tr>\n",
       "      <th>Calories</th>\n",
       "      <td>-3.753828</td>\n",
       "    </tr>\n",
       "    <tr>\n",
       "      <th>Protein</th>\n",
       "      <td>2.949761</td>\n",
       "    </tr>\n",
       "    <tr>\n",
       "      <th>Fat</th>\n",
       "      <td>-2.635585</td>\n",
       "    </tr>\n",
       "    <tr>\n",
       "      <th>Sodium</th>\n",
       "      <td>-4.435950</td>\n",
       "    </tr>\n",
       "    <tr>\n",
       "      <th>Fiber</th>\n",
       "      <td>7.493458</td>\n",
       "    </tr>\n",
       "    <tr>\n",
       "      <th>Carbo</th>\n",
       "      <td>3.168961</td>\n",
       "    </tr>\n",
       "    <tr>\n",
       "      <th>Sugars</th>\n",
       "      <td>-4.648187</td>\n",
       "    </tr>\n",
       "    <tr>\n",
       "      <th>Potass</th>\n",
       "      <td>-0.983930</td>\n",
       "    </tr>\n",
       "    <tr>\n",
       "      <th>Vitamins</th>\n",
       "      <td>-1.198434</td>\n",
       "    </tr>\n",
       "  </tbody>\n",
       "</table>\n",
       "</div>"
      ]
     },
     "execution_count": 32,
     "metadata": {},
     "output_type": "execute_result"
    }
   ],
   "execution_count": 32
  },
  {
   "metadata": {
    "ExecuteTime": {
     "end_time": "2024-11-12T21:10:39.536944Z",
     "start_time": "2024-11-12T21:10:39.486047Z"
    }
   },
   "cell_type": "code",
   "source": [
    "# Generate the prediction value from the test data and evaluate\n",
    "y_test_pred = ridge_model.predict(scaled_X_test) \n",
    "ridge_mse = mean_squared_error(y_test, y_test_pred)"
   ],
   "id": "7ce4f9b74ae1283",
   "outputs": [],
   "execution_count": 33
  },
  {
   "metadata": {
    "ExecuteTime": {
     "end_time": "2024-11-12T21:11:29.059480Z",
     "start_time": "2024-11-12T21:11:28.982281Z"
    }
   },
   "cell_type": "code",
   "source": [
    "# Finding optimal penalty\n",
    "for i in range (1,10):\n",
    "    ridge = Ridge(alpha=i) #alpha: This is the regularization strength. A larger alpha imposes a stronger regularization penalty (shrinks the coefficients more), while a smaller alpha results in less regularization.\n",
    "    ridge_model= ridge.fit(scaled_X_train,y_train)\n",
    "    y_test_pred= ridge_model.predict(scaled_X_test)\n",
    "    print('Alpha = ',i,' / MSE =',mean_squared_error(y_test, y_test_pred))"
   ],
   "id": "5941d75a7332f533",
   "outputs": [
    {
     "name": "stdout",
     "output_type": "stream",
     "text": [
      "Alpha =  1  / MSE = 0.27620472715671157\n",
      "Alpha =  2  / MSE = 0.64506221654001\n",
      "Alpha =  3  / MSE = 1.0137810339632132\n",
      "Alpha =  4  / MSE = 1.3812030054373843\n",
      "Alpha =  5  / MSE = 1.750465082488685\n",
      "Alpha =  6  / MSE = 2.123892303784433\n",
      "Alpha =  7  / MSE = 2.5028142658319847\n",
      "Alpha =  8  / MSE = 2.8878643161370494\n",
      "Alpha =  9  / MSE = 3.279238168286585\n"
     ]
    }
   ],
   "execution_count": 34
  },
  {
   "metadata": {},
   "cell_type": "code",
   "outputs": [],
   "execution_count": null,
   "source": "### Lasso regression model ###",
   "id": "d1ef89486b62f96d"
  },
  {
   "metadata": {
    "ExecuteTime": {
     "end_time": "2024-11-12T21:15:09.443232Z",
     "start_time": "2024-11-12T21:15:09.341998Z"
    }
   },
   "cell_type": "code",
   "source": [
    "from sklearn.linear_model import Lasso\n",
    "lasso = Lasso(alpha=1)\n",
    "lasso_model= lasso.fit(scaled_X_train,y_train)"
   ],
   "id": "e5ac4d18653e58e0",
   "outputs": [],
   "execution_count": 35
  },
  {
   "metadata": {
    "ExecuteTime": {
     "end_time": "2024-11-12T21:15:22.832681Z",
     "start_time": "2024-11-12T21:15:22.719342Z"
    }
   },
   "cell_type": "code",
   "source": "pd.DataFrame(lasso_model.coef_, X.columns, columns=['Coefficients'])",
   "id": "1c9ff8a43de12034",
   "outputs": [
    {
     "data": {
      "text/plain": [
       "          Coefficients\n",
       "Calories     -1.097056\n",
       "Protein       1.337136\n",
       "Fat          -3.010541\n",
       "Sodium       -3.485664\n",
       "Fiber         5.783703\n",
       "Carbo         0.000000\n",
       "Sugars       -7.332847\n",
       "Potass        0.000000\n",
       "Vitamins     -0.328085"
      ],
      "text/html": [
       "<div>\n",
       "<style scoped>\n",
       "    .dataframe tbody tr th:only-of-type {\n",
       "        vertical-align: middle;\n",
       "    }\n",
       "\n",
       "    .dataframe tbody tr th {\n",
       "        vertical-align: top;\n",
       "    }\n",
       "\n",
       "    .dataframe thead th {\n",
       "        text-align: right;\n",
       "    }\n",
       "</style>\n",
       "<table border=\"1\" class=\"dataframe\">\n",
       "  <thead>\n",
       "    <tr style=\"text-align: right;\">\n",
       "      <th></th>\n",
       "      <th>Coefficients</th>\n",
       "    </tr>\n",
       "  </thead>\n",
       "  <tbody>\n",
       "    <tr>\n",
       "      <th>Calories</th>\n",
       "      <td>-1.097056</td>\n",
       "    </tr>\n",
       "    <tr>\n",
       "      <th>Protein</th>\n",
       "      <td>1.337136</td>\n",
       "    </tr>\n",
       "    <tr>\n",
       "      <th>Fat</th>\n",
       "      <td>-3.010541</td>\n",
       "    </tr>\n",
       "    <tr>\n",
       "      <th>Sodium</th>\n",
       "      <td>-3.485664</td>\n",
       "    </tr>\n",
       "    <tr>\n",
       "      <th>Fiber</th>\n",
       "      <td>5.783703</td>\n",
       "    </tr>\n",
       "    <tr>\n",
       "      <th>Carbo</th>\n",
       "      <td>0.000000</td>\n",
       "    </tr>\n",
       "    <tr>\n",
       "      <th>Sugars</th>\n",
       "      <td>-7.332847</td>\n",
       "    </tr>\n",
       "    <tr>\n",
       "      <th>Potass</th>\n",
       "      <td>0.000000</td>\n",
       "    </tr>\n",
       "    <tr>\n",
       "      <th>Vitamins</th>\n",
       "      <td>-0.328085</td>\n",
       "    </tr>\n",
       "  </tbody>\n",
       "</table>\n",
       "</div>"
      ]
     },
     "execution_count": 36,
     "metadata": {},
     "output_type": "execute_result"
    }
   ],
   "execution_count": 36
  },
  {
   "metadata": {
    "ExecuteTime": {
     "end_time": "2024-11-12T21:15:41.646206Z",
     "start_time": "2024-11-12T21:15:41.596180Z"
    }
   },
   "cell_type": "code",
   "source": [
    "# Generate the prediction value from the test data and evaluate\n",
    "y_test_pred = lasso_model.predict(scaled_X_test)\n",
    "lasso_mse = mean_squared_error(y_test, y_test_pred)"
   ],
   "id": "11caace593fe4bb3",
   "outputs": [],
   "execution_count": 37
  },
  {
   "metadata": {
    "ExecuteTime": {
     "end_time": "2024-11-12T21:15:56.482767Z",
     "start_time": "2024-11-12T21:15:56.440136Z"
    }
   },
   "cell_type": "code",
   "source": [
    "# Finding optimal alpha\n",
    "for i in range (1,10):\n",
    "    lasso = Lasso(alpha=i)\n",
    "    lasso_model = lasso.fit(scaled_X_train,y_train)\n",
    "    y_test_pred = lasso_model.predict(scaled_X_test)\n",
    "    print('Alpha = ',i,' / MSE =',mean_squared_error(y_test, y_test_pred))"
   ],
   "id": "be3dcba0044f6ada",
   "outputs": [
    {
     "name": "stdout",
     "output_type": "stream",
     "text": [
      "Alpha =  1  / MSE = 4.666647066791286\n",
      "Alpha =  2  / MSE = 14.217247294191658\n",
      "Alpha =  3  / MSE = 30.05185989224861\n",
      "Alpha =  4  / MSE = 46.394886081731144\n",
      "Alpha =  5  / MSE = 58.297877798041654\n",
      "Alpha =  6  / MSE = 70.7268532702123\n",
      "Alpha =  7  / MSE = 85.09439478685343\n",
      "Alpha =  8  / MSE = 101.40058665573137\n",
      "Alpha =  9  / MSE = 113.88364027671432\n"
     ]
    }
   ],
   "execution_count": 38
  },
  {
   "metadata": {},
   "cell_type": "markdown",
   "source": "## Regularization on logistic regression",
   "id": "fd4feb4a44c186bf"
  },
  {
   "metadata": {
    "ExecuteTime": {
     "end_time": "2024-11-12T21:22:16.401955Z",
     "start_time": "2024-11-12T21:22:16.234562Z"
    }
   },
   "cell_type": "code",
   "source": [
    "df['binary_rating'] = df['Rating'].apply(lambda x: 1 if x > 50 else 0)\n",
    "y = df['binary_rating']\n",
    "\n",
    "# Re-split with new binary target\n",
    "from sklearn.model_selection import train_test_split\n",
    "X_train, X_test, y_train, y_test = train_test_split(X, y, test_size = 0.33, random_state = 5)"
   ],
   "id": "e896dbfece1906d4",
   "outputs": [],
   "execution_count": 39
  },
  {
   "metadata": {
    "ExecuteTime": {
     "end_time": "2024-11-12T21:25:15.009288Z",
     "start_time": "2024-11-12T21:25:14.868019Z"
    }
   },
   "cell_type": "code",
   "source": [
    "from sklearn.linear_model import LogisticRegression\n",
    "Ir = LogisticRegression(penalty='l1', solver='liblinear') # l1 refers to lasso , l2 is ridge\n",
    "model_Ir = Ir.fit(scaled_X_train,y_train)\n",
    "y_test_pred = model_Ir.predict(scaled_X_test)"
   ],
   "id": "be61ca96a5ee3426",
   "outputs": [],
   "execution_count": 40
  },
  {
   "metadata": {
    "ExecuteTime": {
     "end_time": "2024-11-12T21:25:16.945937Z",
     "start_time": "2024-11-12T21:25:16.904676Z"
    }
   },
   "cell_type": "code",
   "source": [
    "# Get performance measures\n",
    "from sklearn import metrics\n",
    "accuracy = metrics.accuracy_score(y_test, y_test_pred)\n",
    "precision = metrics.precision_score(y_test, y_test_pred)\n",
    "recall = metrics.recall_score(y_test, y_test_pred)\n",
    "f1 = metrics.f1_score(y_test, y_test_pred)\n",
    "print(\"Accuracy score = \"+str(accuracy))\n",
    "print(\"Precision score = \"+str(precision))\n",
    "print(\"Recall score = \"+str(recall))\n",
    "print(\"F1 score = \"+str(f1)) # balancing precision and recall"
   ],
   "id": "7188c15091e6f8bf",
   "outputs": [
    {
     "name": "stdout",
     "output_type": "stream",
     "text": [
      "Accuracy score = 0.96\n",
      "Precision score = 0.75\n",
      "Recall score = 1.0\n",
      "F1 score = 0.8571428571428571\n"
     ]
    }
   ],
   "execution_count": 41
  },
  {
   "metadata": {},
   "cell_type": "code",
   "outputs": [],
   "execution_count": null,
   "source": [
    "### the library used \n",
    "# data preprocessing \n",
    "from sklearn.model_selection import train_test_split\n",
    "from sklearn.preprocessing import StandardScaler\n",
    "# model selection \n",
    "from sklearn.linear_model import LinearRegression\n",
    "from sklearn.linear_model import Ridge\n",
    "from sklearn.linear_model import Lasso\n",
    "from sklearn.linear_model import LogisticRegression\n",
    "from sklearn.neighbors import KNeighborsClassifier\n",
    "#cross validate k-fold and loocv \n",
    "from sklearn.model_selection import cross_validate\n",
    "from sklearn.model_selection import LeaveOneOut\n",
    "\n",
    "# performance score \n",
    "from sklearn.metrics import mean_squared_error, mean_absolute_percentage_error # linear regression \n",
    "from sklearn import metrics # logistic regression "
   ],
   "id": "ccc750bc506fadf3"
  }
 ],
 "metadata": {
  "kernelspec": {
   "display_name": "Python 3",
   "language": "python",
   "name": "python3"
  },
  "language_info": {
   "codemirror_mode": {
    "name": "ipython",
    "version": 2
   },
   "file_extension": ".py",
   "mimetype": "text/x-python",
   "name": "python",
   "nbconvert_exporter": "python",
   "pygments_lexer": "ipython2",
   "version": "2.7.6"
  }
 },
 "nbformat": 4,
 "nbformat_minor": 5
}
