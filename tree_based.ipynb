{
 "cells": [
  {
   "metadata": {},
   "cell_type": "markdown",
   "source": "## Classification Tree",
   "id": "9e447f0f89a351a0"
  },
  {
   "cell_type": "code",
   "id": "initial_id",
   "metadata": {
    "collapsed": true,
    "ExecuteTime": {
     "end_time": "2024-11-15T16:19:24.547330Z",
     "start_time": "2024-11-15T16:19:24.497218Z"
    }
   },
   "source": [
    "# before model building \n",
    "import pandas as pd \n",
    "import numpy as np\n",
    "df=pd.read_csv('/Users/hexiaoyu/Desktop/Courses/INSY- DATA MINING/Adult.csv')\n",
    "df.dtypes"
   ],
   "outputs": [
    {
     "data": {
      "text/plain": [
       "income            object\n",
       "race              object\n",
       "sex               object\n",
       "workclass         object\n",
       "marital-status    object\n",
       "age                int64\n",
       "education-num      int64\n",
       "capital-gain       int64\n",
       "capital-loss       int64\n",
       "hours-per-week     int64\n",
       "dtype: object"
      ]
     },
     "execution_count": 55,
     "metadata": {},
     "output_type": "execute_result"
    }
   ],
   "execution_count": 55
  },
  {
   "metadata": {
    "ExecuteTime": {
     "end_time": "2024-11-15T16:19:24.626850Z",
     "start_time": "2024-11-15T16:19:24.597990Z"
    }
   },
   "cell_type": "code",
   "source": [
    "df=pd.get_dummies(df,columns = ['race','sex','workclass','marital-status'])\n",
    "df['income']=df['income'].apply(lambda x: 1 if x==\"<=50K.\" else 0)\n"
   ],
   "id": "5afa9223f68ffcef",
   "outputs": [],
   "execution_count": 56
  },
  {
   "metadata": {
    "ExecuteTime": {
     "end_time": "2024-11-15T16:19:24.671401Z",
     "start_time": "2024-11-15T16:19:24.665999Z"
    }
   },
   "cell_type": "code",
   "source": [
    "# construct variables\n",
    "X=df.iloc[:,1:]\n",
    "y=df['income']"
   ],
   "id": "35c50e52213ff94e",
   "outputs": [],
   "execution_count": 57
  },
  {
   "metadata": {
    "ExecuteTime": {
     "end_time": "2024-11-15T16:19:24.738695Z",
     "start_time": "2024-11-15T16:19:24.726063Z"
    }
   },
   "cell_type": "code",
   "source": [
    "# split training and test dataset\n",
    "from sklearn.model_selection import train_test_split\n",
    "X_train,X_test,y_train,y_test = train_test_split(X,y,test_size=0.33,random_state=5)"
   ],
   "id": "6d6d9ff8b8da0b5a",
   "outputs": [],
   "execution_count": 58
  },
  {
   "metadata": {
    "ExecuteTime": {
     "end_time": "2024-11-15T16:19:24.862825Z",
     "start_time": "2024-11-15T16:19:24.827203Z"
    }
   },
   "cell_type": "code",
   "source": [
    "# Build a tree model with 3 layers\n",
    "from sklearn.tree import DecisionTreeClassifier\n",
    "### Type your code here ###\n",
    "ct = DecisionTreeClassifier(max_depth=3)\n",
    "model = ct.fit(X_train, y_train)\n",
    "y_test_pred = model.predict(X_test)\n",
    "from sklearn.metrics import precision_score\n",
    "precision_ct = precision_score(y_test, y_test_pred)\n",
    "precision_ct"
   ],
   "id": "40cbe026029d72b1",
   "outputs": [
    {
     "data": {
      "text/plain": [
       "np.float64(0.8560173026417426)"
      ]
     },
     "execution_count": 59,
     "metadata": {},
     "output_type": "execute_result"
    }
   ],
   "execution_count": 59
  },
  {
   "metadata": {
    "ExecuteTime": {
     "end_time": "2024-11-15T16:19:28.965797Z",
     "start_time": "2024-11-15T16:19:24.913419Z"
    }
   },
   "cell_type": "code",
   "source": [
    "# Finding optimal max_depth\n",
    "from sklearn.model_selection import cross_validate\n",
    "### Type your code here ###\n",
    "for i in range (2,21):\n",
    "    model = DecisionTreeClassifier(max_depth=i)\n",
    "    scores = cross_validate(model, X, y, scoring='precision', cv=5)\n",
    "    print(i,':',np.average(scores['test_score']))"
   ],
   "id": "22955076ccf8b79",
   "outputs": [
    {
     "name": "stdout",
     "output_type": "stream",
     "text": [
      "2 : 0.839663852626772\n",
      "3 : 0.8556986634891534\n",
      "4 : 0.8619748249102084\n",
      "5 : 0.8583129695102578\n",
      "6 : 0.8657465338637916\n",
      "7 : 0.8645928822424663\n",
      "8 : 0.8640826757410192\n",
      "9 : 0.8673640487222671\n",
      "10 : 0.8699148319524141\n",
      "11 : 0.8744814776644516\n",
      "12 : 0.8784931791687528\n",
      "13 : 0.8849198188603156\n",
      "14 : 0.8827541690247072\n",
      "15 : 0.8763869479611122\n",
      "16 : 0.8788202784040129\n",
      "17 : 0.8750855320340818\n",
      "18 : 0.8782306596140165\n",
      "19 : 0.8786022559831009\n",
      "20 : 0.8798206142477862\n"
     ]
    }
   ],
   "execution_count": 60
  },
  {
   "metadata": {
    "ExecuteTime": {
     "end_time": "2024-11-15T16:21:03.040494Z",
     "start_time": "2024-11-15T16:21:02.952840Z"
    }
   },
   "cell_type": "code",
   "source": [
    "# the 13th depth give us the highest precision score, but it may lead to overfitting issues, and too complex to explain. \n",
    "# make prediction use new dataset \n",
    "df_test= pd.read_csv('/Users/hexiaoyu/Downloads/Sample_Data_from_Adult_Dataset.csv')\n",
    "# One-hot encode test data with the same columns as training data\n",
    "df_test = pd.get_dummies(df_test, columns=['race', 'sex', 'workclass', 'marital-status'])\n",
    "df_test = df_test.reindex(columns=df.columns, fill_value=0)\n",
    "\n",
    "x = df_test.drop('income', axis=1)"
   ],
   "id": "7a73a9286ada6102",
   "outputs": [],
   "execution_count": 63
  },
  {
   "metadata": {},
   "cell_type": "markdown",
   "source": "",
   "id": "cf180b89366cb22e"
  },
  {
   "metadata": {
    "ExecuteTime": {
     "end_time": "2024-11-15T16:21:04.730284Z",
     "start_time": "2024-11-15T16:21:04.688334Z"
    }
   },
   "cell_type": "code",
   "source": [
    "#make predictions\n",
    "model = DecisionTreeClassifier(max_depth=3)\n",
    "model.fit(X_train, y_train)\n",
    "y_pred_1 = model.predict(x)\n",
    "print(y_pred_1)"
   ],
   "id": "67cda50c8b2dfa37",
   "outputs": [
    {
     "name": "stdout",
     "output_type": "stream",
     "text": [
      "[1 1 1 1 1]\n"
     ]
    }
   ],
   "execution_count": 64
  },
  {
   "metadata": {
    "ExecuteTime": {
     "end_time": "2024-11-15T16:24:29.556231Z",
     "start_time": "2024-11-15T16:24:29.512427Z"
    }
   },
   "cell_type": "code",
   "source": [
    "# inteprting the rules and result \n",
    "from sklearn.tree import export_text\n",
    "tree_rules = export_text(ct, feature_names=list(X_train.columns))\n",
    "print(tree_rules)\n"
   ],
   "id": "93c28de6e5d469cc",
   "outputs": [
    {
     "name": "stdout",
     "output_type": "stream",
     "text": [
      "|--- marital-status_Married <= 0.50\n",
      "|   |--- capital-gain <= 7139.50\n",
      "|   |   |--- education-num <= 13.50\n",
      "|   |   |   |--- class: 1\n",
      "|   |   |--- education-num >  13.50\n",
      "|   |   |   |--- class: 1\n",
      "|   |--- capital-gain >  7139.50\n",
      "|   |   |--- hours-per-week <= 9.50\n",
      "|   |   |   |--- class: 1\n",
      "|   |   |--- hours-per-week >  9.50\n",
      "|   |   |   |--- class: 0\n",
      "|--- marital-status_Married >  0.50\n",
      "|   |--- education-num <= 12.50\n",
      "|   |   |--- capital-gain <= 5095.50\n",
      "|   |   |   |--- class: 1\n",
      "|   |   |--- capital-gain >  5095.50\n",
      "|   |   |   |--- class: 0\n",
      "|   |--- education-num >  12.50\n",
      "|   |   |--- capital-gain <= 5095.50\n",
      "|   |   |   |--- class: 0\n",
      "|   |   |--- capital-gain >  5095.50\n",
      "|   |   |   |--- class: 0\n",
      "\n"
     ]
    }
   ],
   "execution_count": 67
  },
  {
   "metadata": {
    "ExecuteTime": {
     "end_time": "2024-11-15T16:26:13.815966Z",
     "start_time": "2024-11-15T16:26:13.803159Z"
    }
   },
   "cell_type": "code",
   "source": [
    "# Display feature importance\n",
    "feature_importance = pd.Series(model.feature_importances_, index=X_train.columns)\n",
    "feature_importance.sort_values(ascending=False, inplace=True)\n",
    "print(feature_importance)\n"
   ],
   "id": "f6e8aade011bca1",
   "outputs": [
    {
     "name": "stdout",
     "output_type": "stream",
     "text": [
      "marital-status_Married          0.521517\n",
      "capital-gain                    0.245202\n",
      "education-num                   0.232412\n",
      "hours-per-week                  0.000869\n",
      "age                             0.000000\n",
      "workclass_Gov                   0.000000\n",
      "marital-status_Separated        0.000000\n",
      "marital-status_Never-married    0.000000\n",
      "marital-status_Divorced         0.000000\n",
      "workclass_Self                  0.000000\n",
      "workclass_Private               0.000000\n",
      "workclass_Never-worked          0.000000\n",
      "sex_Female                      0.000000\n",
      "sex_Male                        0.000000\n",
      "race_White                      0.000000\n",
      "race_Other                      0.000000\n",
      "race_Black                      0.000000\n",
      "race_Asian-Pac-Islander         0.000000\n",
      "race_Amer-Indian-Eskimo         0.000000\n",
      "capital-loss                    0.000000\n",
      "marital-status_Widowed          0.000000\n",
      "dtype: float64\n"
     ]
    }
   ],
   "execution_count": 71
  },
  {
   "metadata": {},
   "cell_type": "markdown",
   "source": [
    "The Decision Tree model indeed classifies income based on factors such as marital status, capital gain, and education number. It uses these features to create a path for prediction, essentially identifying conditions that are more likely to result in incomes above or below $50,000.\n",
    "\n",
    "In this case, marital status acts as a significant initial split, suggesting that it has a strong association with income level. From there, the model refines its decision based on capital gain and education level, which further help predict income accurately.\n",
    "\n",
    "As you pointed out, this approach provides a structured way to interpret how certain characteristics contribute to income prediction. Married individuals, especially those with higher education and capital gains, tend to have higher incomes. This path-based decision-making helps in categorizing and understanding more meaningful cases within the data."
   ],
   "id": "30e2f582eb70aba9"
  },
  {
   "metadata": {},
   "cell_type": "markdown",
   "source": "## Random Forest ",
   "id": "c406fb3b37e14480"
  },
  {
   "metadata": {
    "ExecuteTime": {
     "end_time": "2024-11-15T17:30:20.710608Z",
     "start_time": "2024-11-15T17:30:19.183735Z"
    }
   },
   "cell_type": "code",
   "source": [
    "# Build a model\n",
    "from sklearn.ensemble import RandomForestClassifier\n",
    "\n",
    "rf = RandomForestClassifier(random_state=0)\n",
    "model_rf= rf.fit(X_train, y_train)\n",
    "y_test_pred= model_rf.predict(X_test)\n",
    "precision_rf= precision_score(y_test, y_test_pred)\n",
    "precision_rf"
   ],
   "id": "a93ecd825ebfd90",
   "outputs": [
    {
     "data": {
      "text/plain": [
       "np.float64(0.8745496233213232)"
      ]
     },
     "execution_count": 77,
     "metadata": {},
     "output_type": "execute_result"
    }
   ],
   "execution_count": 77
  },
  {
   "metadata": {
    "ExecuteTime": {
     "end_time": "2024-11-15T17:23:11.604163Z",
     "start_time": "2024-11-15T17:23:11.476254Z"
    }
   },
   "cell_type": "code",
   "source": [
    "# Display feature importance\n",
    "feature_importance = pd.Series(model_rf.feature_importances_, index=X_train.columns)\n",
    "feature_importance.sort_values(ascending=False, inplace=True)\n",
    "print(feature_importance)"
   ],
   "id": "f9ee35ad81caab5",
   "outputs": [
    {
     "name": "stdout",
     "output_type": "stream",
     "text": [
      "age                             2.688935e-01\n",
      "education-num                   1.703622e-01\n",
      "hours-per-week                  1.379193e-01\n",
      "capital-gain                    1.351541e-01\n",
      "marital-status_Married          1.185595e-01\n",
      "capital-loss                    4.619691e-02\n",
      "marital-status_Never-married    3.868000e-02\n",
      "sex_Female                      1.561277e-02\n",
      "sex_Male                        1.174277e-02\n",
      "marital-status_Divorced         1.126671e-02\n",
      "workclass_Private               8.321367e-03\n",
      "workclass_Self                  6.833449e-03\n",
      "workclass_Gov                   6.535576e-03\n",
      "race_White                      6.508936e-03\n",
      "race_Black                      4.670923e-03\n",
      "race_Asian-Pac-Islander         3.635408e-03\n",
      "marital-status_Separated        2.667558e-03\n",
      "marital-status_Widowed          2.521416e-03\n",
      "race_Other                      1.996208e-03\n",
      "race_Amer-Indian-Eskimo         1.920827e-03\n",
      "workclass_Never-worked          5.432209e-07\n",
      "dtype: float64\n"
     ]
    }
   ],
   "execution_count": 73
  },
  {
   "metadata": {
    "ExecuteTime": {
     "end_time": "2024-11-15T17:23:43.594837Z",
     "start_time": "2024-11-15T17:23:43.220527Z"
    }
   },
   "cell_type": "code",
   "source": [
    "# Print feature importance\n",
    "pd.Series(model_rf.feature_importances_,index = X.columns).sort_values(ascending = False).plot(kind = 'bar', figsize = (14,6))  "
   ],
   "id": "63f81c96a6c6dfe7",
   "outputs": [
    {
     "data": {
      "text/plain": [
       "<Axes: >"
      ]
     },
     "execution_count": 74,
     "metadata": {},
     "output_type": "execute_result"
    },
    {
     "data": {
      "text/plain": [
       "<Figure size 1400x600 with 1 Axes>"
      ],
      "image/png": "[encoded data removed]"
     },
     "metadata": {},
     "output_type": "display_data"
    }
   ],
   "execution_count": 74
  },
  {
   "metadata": {
    "ExecuteTime": {
     "end_time": "2024-11-15T17:26:37.211727Z",
     "start_time": "2024-11-15T17:26:02.616836Z"
    }
   },
   "cell_type": "code",
   "source": [
    "# K-fold cross validation for different numbers of features to consider at each split\n",
    "for i in range (2,7):                                                                  \n",
    "    model = RandomForestClassifier(random_state=0,max_features=i)\n",
    "    scores = cross_validate(model, X, y, scoring='precision',cv=5)\n",
    "    print(i,':',np.average(scores['test_score']))"
   ],
   "id": "b4a03cc5f65b8990",
   "outputs": [
    {
     "name": "stdout",
     "output_type": "stream",
     "text": [
      "2 : 0.8738902948089529\n",
      "3 : 0.8745517234722329\n",
      "4 : 0.8740672899701958\n",
      "5 : 0.8749115699685532\n",
      "6 : 0.8763021880728278\n"
     ]
    }
   ],
   "execution_count": 75
  },
  {
   "metadata": {},
   "cell_type": "code",
   "outputs": [],
   "execution_count": null,
   "source": "",
   "id": "8b43f77117c46617"
  },
  {
   "metadata": {},
   "cell_type": "markdown",
   "source": "While max_features=6 provides a marginally higher precision score, choosing max_features=2 is likely a safer choice due to the slightly better cross-validation performance and lower risk of overfitting. If your goal is solely to maximize precision and you are okay with the risk of overfitting, you could choose max_features=6. However, if you’re aiming for a robust model, max_features=2 might be preferable.",
   "id": "8970956763592aae"
  },
  {
   "metadata": {
    "ExecuteTime": {
     "end_time": "2024-11-15T18:17:36.458025Z",
     "start_time": "2024-11-15T18:17:35.078836Z"
    }
   },
   "cell_type": "code",
   "source": [
    "#make predictions with 3 \n",
    "rf = RandomForestClassifier(random_state=0,max_features=3)\n",
    "model_rf= rf.fit(X_train, y_train)\n",
    "y_pred_rf = model_rf.predict(x)\n",
    "print(y_pred_rf)"
   ],
   "id": "c4399dfb9a9cc719",
   "outputs": [
    {
     "name": "stdout",
     "output_type": "stream",
     "text": [
      "[1 1 1 1 1]\n"
     ]
    }
   ],
   "execution_count": 84
  },
  {
   "metadata": {
    "ExecuteTime": {
     "end_time": "2024-11-15T17:35:08.582031Z",
     "start_time": "2024-11-15T17:35:06.806349Z"
    }
   },
   "cell_type": "code",
   "source": [
    "### Internal way of doing cross-validation with only accuracy scores ###\n",
    "# Cross-validate internally using OOB observations\n",
    "rf2 = RandomForestClassifier(random_state=0,oob_score=True)   \n",
    "model_rf2 = rf2.fit(X, y)\n",
    "model_rf2.oob_score_"
   ],
   "id": "4aa9514ac800e227",
   "outputs": [
    {
     "data": {
      "text/plain": [
       "0.8333757205832486"
      ]
     },
     "execution_count": 79,
     "metadata": {},
     "output_type": "execute_result"
    }
   ],
   "execution_count": 79
  },
  {
   "metadata": {},
   "cell_type": "markdown",
   "source": "## Gradient Boosting",
   "id": "cb5e844152595ddd"
  },
  {
   "metadata": {
    "ExecuteTime": {
     "end_time": "2024-11-15T17:47:05.854766Z",
     "start_time": "2024-11-15T17:47:03.770136Z"
    }
   },
   "cell_type": "code",
   "source": [
    "# Build the model\n",
    "from sklearn.ensemble import GradientBoostingClassifier\n",
    "gbt = GradientBoostingClassifier(random_state=0)\n",
    "model_gbt = gbt.fit(X_train, y_train)\n",
    "y_test_pred = model_gbt.predict(X_test)\n",
    "precision_gbt = precision_score(y_test, y_test_pred)\n",
    "precision_gbt"
   ],
   "id": "e58b4a5d1ec1a0f2",
   "outputs": [
    {
     "data": {
      "text/plain": [
       "np.float64(0.8714620797498045)"
      ]
     },
     "execution_count": 82,
     "metadata": {},
     "output_type": "execute_result"
    }
   ],
   "execution_count": 82
  },
  {
   "metadata": {
    "ExecuteTime": {
     "end_time": "2024-11-15T17:48:24.451781Z",
     "start_time": "2024-11-15T17:47:28.315893Z"
    }
   },
   "cell_type": "code",
   "source": [
    "# K-fold cross-validation with different number of samples required to split\n",
    "\n",
    "for i in range(2,10):\n",
    "    model = GradientBoostingClassifier(random_state=0,min_samples_split=i) # min_sample_split could be adjusted by needs\n",
    "    scores = cross_validate(model, X, y, scoring='precision', cv=5)\n",
    "    print(i,':',np.average(scores['test_score']))"
   ],
   "id": "52eb1e0e1258b151",
   "outputs": [
    {
     "name": "stdout",
     "output_type": "stream",
     "text": [
      "2 : 0.8723904467647703\n",
      "3 : 0.8725142516169402\n",
      "4 : 0.8722669922880113\n",
      "5 : 0.8722669922880113\n",
      "6 : 0.8721479354099497\n",
      "7 : 0.8721916501579509\n",
      "8 : 0.872319660453764\n",
      "9 : 0.8720842539026321\n"
     ]
    }
   ],
   "execution_count": 83
  },
  {
   "metadata": {
    "ExecuteTime": {
     "end_time": "2024-11-15T18:19:48.965612Z",
     "start_time": "2024-11-15T18:19:47.579672Z"
    }
   },
   "cell_type": "code",
   "source": [
    "#make predictions with 3 \n",
    "model = GradientBoostingClassifier(random_state=0,min_samples_split=3)\n",
    "model_gbt= model.fit(X_train, y_train)\n",
    "y_pred_gbt = model_gbt.predict(x)\n",
    "print(y_pred_gbt)"
   ],
   "id": "6bd532617c934aa0",
   "outputs": [
    {
     "name": "stdout",
     "output_type": "stream",
     "text": [
      "[1 1 1 1 1]\n"
     ]
    }
   ],
   "execution_count": 85
  },
  {
   "metadata": {},
   "cell_type": "markdown",
   "source": [
    "## conclusion\n",
    "Three methods have the same prediction result of new sample. but they have different pro and cons. \n",
    "\n",
    "decision tree: interpretability very good/(path+ feature importance), accuracy low and easy to be overfitting\n",
    "\n",
    "random forest: interpretability moderate (feature importance), accuracy high, more generalized and robust model\n",
    "\n",
    "gradient descent: bad interpretability, accuracy very high( as it directly boost the model performance by min the residual value), high overfitting issue, need extensive tuning.\n",
    "\n"
   ],
   "id": "c1379723366ac6b7"
  }
 ],
 "metadata": {
  "kernelspec": {
   "display_name": "Python 3",
   "language": "python",
   "name": "python3"
  },
  "language_info": {
   "codemirror_mode": {
    "name": "ipython",
    "version": 2
   },
   "file_extension": ".py",
   "mimetype": "text/x-python",
   "name": "python",
   "nbconvert_exporter": "python",
   "pygments_lexer": "ipython2",
   "version": "2.7.6"
  }
 },
 "nbformat": 4,
 "nbformat_minor": 5
}
