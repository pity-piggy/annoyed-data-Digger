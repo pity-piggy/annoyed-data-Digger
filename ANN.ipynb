{
 "cells": [
  {
   "metadata": {},
   "cell_type": "markdown",
   "source": [
    "# ANN MODEL\n",
    "relationship between features and target are highly non-linear; there are many features and the interaction between them is complex\n",
    "## before model building "
   ],
   "id": "defdfed6d1a20332"
  },
  {
   "cell_type": "code",
   "id": "initial_id",
   "metadata": {
    "collapsed": true,
    "ExecuteTime": {
     "end_time": "2024-11-19T15:33:23.999876Z",
     "start_time": "2024-11-19T15:33:23.990370Z"
    }
   },
   "source": [
    "# Import the data\n",
    "# ALCHL_I: whether the driver is under the influence of alcohol or not\n",
    "# PROFIL_I_R: whether the roadway is levelled or not\n",
    "# SUR_COND: condition of the road surface (1: dry, 2: wet, 3: snow, 4: icy, 9: unknown)\n",
    "# VEH_INVL: number of vehicles involved\n",
    "# MAX_SEV_IR: severity of the accident (0: no injury, 1: non-fatal injury, 2: fatal injury)\n",
    "import pandas as pd\n",
    "import numpy as np\n",
    "df=pd.read_csv('/Users/hexiaoyu/Desktop/Courses/INSY- DATA MINING/Accidents.csv')\n",
    "df"
   ],
   "outputs": [
    {
     "data": {
      "text/plain": [
       "     ALCHL_I  PROFIL_I_R  SUR_COND  VEH_INVL  MAX_SEV_IR\n",
       "0          2           0         1         1           0\n",
       "1          2           1         1         1           2\n",
       "2          1           0         1         1           0\n",
       "3          2           0         2         2           1\n",
       "4          2           1         1         2           1\n",
       "..       ...         ...       ...       ...         ...\n",
       "995        2           0         1         1           0\n",
       "996        1           1         1         2           1\n",
       "997        1           0         1         3           2\n",
       "998        2           0         1         1           0\n",
       "999        2           0         1         1           0\n",
       "\n",
       "[1000 rows x 5 columns]"
      ],
      "text/html": [
       "<div>\n",
       "<style scoped>\n",
       "    .dataframe tbody tr th:only-of-type {\n",
       "        vertical-align: middle;\n",
       "    }\n",
       "\n",
       "    .dataframe tbody tr th {\n",
       "        vertical-align: top;\n",
       "    }\n",
       "\n",
       "    .dataframe thead th {\n",
       "        text-align: right;\n",
       "    }\n",
       "</style>\n",
       "<table border=\"1\" class=\"dataframe\">\n",
       "  <thead>\n",
       "    <tr style=\"text-align: right;\">\n",
       "      <th></th>\n",
       "      <th>ALCHL_I</th>\n",
       "      <th>PROFIL_I_R</th>\n",
       "      <th>SUR_COND</th>\n",
       "      <th>VEH_INVL</th>\n",
       "      <th>MAX_SEV_IR</th>\n",
       "    </tr>\n",
       "  </thead>\n",
       "  <tbody>\n",
       "    <tr>\n",
       "      <th>0</th>\n",
       "      <td>2</td>\n",
       "      <td>0</td>\n",
       "      <td>1</td>\n",
       "      <td>1</td>\n",
       "      <td>0</td>\n",
       "    </tr>\n",
       "    <tr>\n",
       "      <th>1</th>\n",
       "      <td>2</td>\n",
       "      <td>1</td>\n",
       "      <td>1</td>\n",
       "      <td>1</td>\n",
       "      <td>2</td>\n",
       "    </tr>\n",
       "    <tr>\n",
       "      <th>2</th>\n",
       "      <td>1</td>\n",
       "      <td>0</td>\n",
       "      <td>1</td>\n",
       "      <td>1</td>\n",
       "      <td>0</td>\n",
       "    </tr>\n",
       "    <tr>\n",
       "      <th>3</th>\n",
       "      <td>2</td>\n",
       "      <td>0</td>\n",
       "      <td>2</td>\n",
       "      <td>2</td>\n",
       "      <td>1</td>\n",
       "    </tr>\n",
       "    <tr>\n",
       "      <th>4</th>\n",
       "      <td>2</td>\n",
       "      <td>1</td>\n",
       "      <td>1</td>\n",
       "      <td>2</td>\n",
       "      <td>1</td>\n",
       "    </tr>\n",
       "    <tr>\n",
       "      <th>...</th>\n",
       "      <td>...</td>\n",
       "      <td>...</td>\n",
       "      <td>...</td>\n",
       "      <td>...</td>\n",
       "      <td>...</td>\n",
       "    </tr>\n",
       "    <tr>\n",
       "      <th>995</th>\n",
       "      <td>2</td>\n",
       "      <td>0</td>\n",
       "      <td>1</td>\n",
       "      <td>1</td>\n",
       "      <td>0</td>\n",
       "    </tr>\n",
       "    <tr>\n",
       "      <th>996</th>\n",
       "      <td>1</td>\n",
       "      <td>1</td>\n",
       "      <td>1</td>\n",
       "      <td>2</td>\n",
       "      <td>1</td>\n",
       "    </tr>\n",
       "    <tr>\n",
       "      <th>997</th>\n",
       "      <td>1</td>\n",
       "      <td>0</td>\n",
       "      <td>1</td>\n",
       "      <td>3</td>\n",
       "      <td>2</td>\n",
       "    </tr>\n",
       "    <tr>\n",
       "      <th>998</th>\n",
       "      <td>2</td>\n",
       "      <td>0</td>\n",
       "      <td>1</td>\n",
       "      <td>1</td>\n",
       "      <td>0</td>\n",
       "    </tr>\n",
       "    <tr>\n",
       "      <th>999</th>\n",
       "      <td>2</td>\n",
       "      <td>0</td>\n",
       "      <td>1</td>\n",
       "      <td>1</td>\n",
       "      <td>0</td>\n",
       "    </tr>\n",
       "  </tbody>\n",
       "</table>\n",
       "<p>1000 rows × 5 columns</p>\n",
       "</div>"
      ]
     },
     "execution_count": 40,
     "metadata": {},
     "output_type": "execute_result"
    }
   ],
   "execution_count": 40
  },
  {
   "metadata": {
    "ExecuteTime": {
     "end_time": "2024-11-19T15:33:24.014864Z",
     "start_time": "2024-11-19T15:33:24.001422Z"
    }
   },
   "cell_type": "code",
   "source": [
    "df[\"ALCHL_I\"] = df[\"ALCHL_I\"]-1\n",
    "df[\"VEH_INVL\"] = df[\"VEH_INVL\"]-1\n",
    "df = pd.get_dummies(df, columns = ['SUR_COND'])"
   ],
   "id": "d82a00731bc819c4",
   "outputs": [],
   "execution_count": 41
  },
  {
   "metadata": {
    "ExecuteTime": {
     "end_time": "2024-11-19T15:33:24.048117Z",
     "start_time": "2024-11-19T15:33:24.041327Z"
    }
   },
   "cell_type": "code",
   "source": "df",
   "id": "469d987ffda72b7d",
   "outputs": [
    {
     "data": {
      "text/plain": [
       "     ALCHL_I  PROFIL_I_R  VEH_INVL  MAX_SEV_IR  SUR_COND_1  SUR_COND_2  \\\n",
       "0          1           0         0           0        True       False   \n",
       "1          1           1         0           2        True       False   \n",
       "2          0           0         0           0        True       False   \n",
       "3          1           0         1           1       False        True   \n",
       "4          1           1         1           1        True       False   \n",
       "..       ...         ...       ...         ...         ...         ...   \n",
       "995        1           0         0           0        True       False   \n",
       "996        0           1         1           1        True       False   \n",
       "997        0           0         2           2        True       False   \n",
       "998        1           0         0           0        True       False   \n",
       "999        1           0         0           0        True       False   \n",
       "\n",
       "     SUR_COND_3  SUR_COND_4  SUR_COND_9  \n",
       "0         False       False       False  \n",
       "1         False       False       False  \n",
       "2         False       False       False  \n",
       "3         False       False       False  \n",
       "4         False       False       False  \n",
       "..          ...         ...         ...  \n",
       "995       False       False       False  \n",
       "996       False       False       False  \n",
       "997       False       False       False  \n",
       "998       False       False       False  \n",
       "999       False       False       False  \n",
       "\n",
       "[1000 rows x 9 columns]"
      ],
      "text/html": [
       "<div>\n",
       "<style scoped>\n",
       "    .dataframe tbody tr th:only-of-type {\n",
       "        vertical-align: middle;\n",
       "    }\n",
       "\n",
       "    .dataframe tbody tr th {\n",
       "        vertical-align: top;\n",
       "    }\n",
       "\n",
       "    .dataframe thead th {\n",
       "        text-align: right;\n",
       "    }\n",
       "</style>\n",
       "<table border=\"1\" class=\"dataframe\">\n",
       "  <thead>\n",
       "    <tr style=\"text-align: right;\">\n",
       "      <th></th>\n",
       "      <th>ALCHL_I</th>\n",
       "      <th>PROFIL_I_R</th>\n",
       "      <th>VEH_INVL</th>\n",
       "      <th>MAX_SEV_IR</th>\n",
       "      <th>SUR_COND_1</th>\n",
       "      <th>SUR_COND_2</th>\n",
       "      <th>SUR_COND_3</th>\n",
       "      <th>SUR_COND_4</th>\n",
       "      <th>SUR_COND_9</th>\n",
       "    </tr>\n",
       "  </thead>\n",
       "  <tbody>\n",
       "    <tr>\n",
       "      <th>0</th>\n",
       "      <td>1</td>\n",
       "      <td>0</td>\n",
       "      <td>0</td>\n",
       "      <td>0</td>\n",
       "      <td>True</td>\n",
       "      <td>False</td>\n",
       "      <td>False</td>\n",
       "      <td>False</td>\n",
       "      <td>False</td>\n",
       "    </tr>\n",
       "    <tr>\n",
       "      <th>1</th>\n",
       "      <td>1</td>\n",
       "      <td>1</td>\n",
       "      <td>0</td>\n",
       "      <td>2</td>\n",
       "      <td>True</td>\n",
       "      <td>False</td>\n",
       "      <td>False</td>\n",
       "      <td>False</td>\n",
       "      <td>False</td>\n",
       "    </tr>\n",
       "    <tr>\n",
       "      <th>2</th>\n",
       "      <td>0</td>\n",
       "      <td>0</td>\n",
       "      <td>0</td>\n",
       "      <td>0</td>\n",
       "      <td>True</td>\n",
       "      <td>False</td>\n",
       "      <td>False</td>\n",
       "      <td>False</td>\n",
       "      <td>False</td>\n",
       "    </tr>\n",
       "    <tr>\n",
       "      <th>3</th>\n",
       "      <td>1</td>\n",
       "      <td>0</td>\n",
       "      <td>1</td>\n",
       "      <td>1</td>\n",
       "      <td>False</td>\n",
       "      <td>True</td>\n",
       "      <td>False</td>\n",
       "      <td>False</td>\n",
       "      <td>False</td>\n",
       "    </tr>\n",
       "    <tr>\n",
       "      <th>4</th>\n",
       "      <td>1</td>\n",
       "      <td>1</td>\n",
       "      <td>1</td>\n",
       "      <td>1</td>\n",
       "      <td>True</td>\n",
       "      <td>False</td>\n",
       "      <td>False</td>\n",
       "      <td>False</td>\n",
       "      <td>False</td>\n",
       "    </tr>\n",
       "    <tr>\n",
       "      <th>...</th>\n",
       "      <td>...</td>\n",
       "      <td>...</td>\n",
       "      <td>...</td>\n",
       "      <td>...</td>\n",
       "      <td>...</td>\n",
       "      <td>...</td>\n",
       "      <td>...</td>\n",
       "      <td>...</td>\n",
       "      <td>...</td>\n",
       "    </tr>\n",
       "    <tr>\n",
       "      <th>995</th>\n",
       "      <td>1</td>\n",
       "      <td>0</td>\n",
       "      <td>0</td>\n",
       "      <td>0</td>\n",
       "      <td>True</td>\n",
       "      <td>False</td>\n",
       "      <td>False</td>\n",
       "      <td>False</td>\n",
       "      <td>False</td>\n",
       "    </tr>\n",
       "    <tr>\n",
       "      <th>996</th>\n",
       "      <td>0</td>\n",
       "      <td>1</td>\n",
       "      <td>1</td>\n",
       "      <td>1</td>\n",
       "      <td>True</td>\n",
       "      <td>False</td>\n",
       "      <td>False</td>\n",
       "      <td>False</td>\n",
       "      <td>False</td>\n",
       "    </tr>\n",
       "    <tr>\n",
       "      <th>997</th>\n",
       "      <td>0</td>\n",
       "      <td>0</td>\n",
       "      <td>2</td>\n",
       "      <td>2</td>\n",
       "      <td>True</td>\n",
       "      <td>False</td>\n",
       "      <td>False</td>\n",
       "      <td>False</td>\n",
       "      <td>False</td>\n",
       "    </tr>\n",
       "    <tr>\n",
       "      <th>998</th>\n",
       "      <td>1</td>\n",
       "      <td>0</td>\n",
       "      <td>0</td>\n",
       "      <td>0</td>\n",
       "      <td>True</td>\n",
       "      <td>False</td>\n",
       "      <td>False</td>\n",
       "      <td>False</td>\n",
       "      <td>False</td>\n",
       "    </tr>\n",
       "    <tr>\n",
       "      <th>999</th>\n",
       "      <td>1</td>\n",
       "      <td>0</td>\n",
       "      <td>0</td>\n",
       "      <td>0</td>\n",
       "      <td>True</td>\n",
       "      <td>False</td>\n",
       "      <td>False</td>\n",
       "      <td>False</td>\n",
       "      <td>False</td>\n",
       "    </tr>\n",
       "  </tbody>\n",
       "</table>\n",
       "<p>1000 rows × 9 columns</p>\n",
       "</div>"
      ]
     },
     "execution_count": 42,
     "metadata": {},
     "output_type": "execute_result"
    }
   ],
   "execution_count": 42
  },
  {
   "metadata": {
    "ExecuteTime": {
     "end_time": "2024-11-19T15:33:24.052160Z",
     "start_time": "2024-11-19T15:33:24.049156Z"
    }
   },
   "cell_type": "code",
   "source": [
    "# Construct variables\n",
    "\n",
    "X = df.drop(columns=['MAX_SEV_IR'])\n",
    "y = df['MAX_SEV_IR']"
   ],
   "id": "88e4fd806dc24ade",
   "outputs": [],
   "execution_count": 43
  },
  {
   "metadata": {
    "ExecuteTime": {
     "end_time": "2024-11-19T15:33:24.112453Z",
     "start_time": "2024-11-19T15:33:24.105848Z"
    }
   },
   "cell_type": "code",
   "source": [
    "# Split the data set\n",
    "from sklearn.model_selection import train_test_split\n",
    "X_train,X_test,y_train,y_test = train_test_split(X,y,test_size=0.33,random_state=5)"
   ],
   "id": "ebdde485b21a0593",
   "outputs": [],
   "execution_count": 44
  },
  {
   "metadata": {
    "ExecuteTime": {
     "end_time": "2024-11-19T15:33:24.116994Z",
     "start_time": "2024-11-19T15:33:24.113969Z"
    }
   },
   "cell_type": "code",
   "source": [
    "#### Either do standardize below to scale the VEH_INVL or just -1 as the the scales of other variables are also between 0 nad 1.\n",
    "# Standardize the data set\n",
    "# from sklearn.preprocessing import MinMaxScaler\n",
    "# scaler = MinMaxScaler()\n",
    "# \n",
    "# X_train_std = X_train.copy()\n",
    "# X_train_std[['VEH_INVL']] = scaler.fit_transform(X_train_std[['VEH_INVL']])\n",
    "# \n",
    "# X_test_std = X_test.copy()\n",
    "# X_test_std[['VEH_INVL']] = scaler.transform(X_test_std[['VEH_INVL']])"
   ],
   "id": "eb712dbca0b82f4e",
   "outputs": [],
   "execution_count": 45
  },
  {
   "metadata": {
    "ExecuteTime": {
     "end_time": "2024-11-19T15:33:24.166891Z",
     "start_time": "2024-11-19T15:33:24.163466Z"
    }
   },
   "cell_type": "code",
   "source": "# X_train_std",
   "id": "17d6e2cdecce0eb",
   "outputs": [],
   "execution_count": 46
  },
  {
   "metadata": {},
   "cell_type": "markdown",
   "source": "## build ANN ",
   "id": "1f92c4ba2eff7e4b"
  },
  {
   "metadata": {
    "ExecuteTime": {
     "end_time": "2024-11-19T15:33:24.511023Z",
     "start_time": "2024-11-19T15:33:24.168549Z"
    }
   },
   "cell_type": "code",
   "source": [
    "# Build ANN with one hidden layer and 8 nodes and evaluate\n",
    "\n",
    "from sklearn.neural_network import MLPClassifier\n",
    "mlp = MLPClassifier(hidden_layer_sizes=(8),max_iter=1000, random_state=0) # 1000 test iteration number\n",
    "model = mlp.fit(X_train_std,y_train)\n",
    "y_test_pred = model.predict(X_test_std)\n",
    "from sklearn.metrics import accuracy_score \n",
    "accuracy_score(y_test, y_test_pred)"
   ],
   "id": "ddd9172ef58cd3c2",
   "outputs": [
    {
     "data": {
      "text/plain": [
       "0.8606060606060606"
      ]
     },
     "execution_count": 47,
     "metadata": {},
     "output_type": "execute_result"
    }
   ],
   "execution_count": 47
  },
  {
   "metadata": {
    "ExecuteTime": {
     "end_time": "2024-11-19T15:33:24.516008Z",
     "start_time": "2024-11-19T15:33:24.512373Z"
    }
   },
   "cell_type": "code",
   "source": "y_test_pred ",
   "id": "a6d3c77c746f0c8c",
   "outputs": [
    {
     "data": {
      "text/plain": [
       "array([1, 2, 0, 2, 0, 1, 0, 0, 1, 1, 0, 0, 0, 1, 1, 0, 1, 0, 0, 1, 1, 1,\n",
       "       0, 1, 1, 1, 1, 1, 0, 0, 1, 1, 0, 0, 1, 1, 0, 0, 0, 0, 0, 1, 0, 0,\n",
       "       1, 1, 1, 0, 0, 0, 2, 0, 2, 0, 1, 0, 0, 0, 1, 1, 1, 2, 0, 0, 1, 0,\n",
       "       0, 1, 0, 0, 0, 0, 1, 0, 0, 0, 0, 0, 1, 0, 1, 0, 0, 0, 0, 1, 0, 2,\n",
       "       0, 0, 1, 1, 1, 0, 0, 1, 0, 0, 0, 1, 0, 1, 1, 0, 1, 0, 0, 0, 0, 0,\n",
       "       1, 0, 0, 1, 0, 0, 1, 0, 1, 2, 1, 1, 1, 0, 1, 0, 0, 1, 0, 0, 0, 0,\n",
       "       0, 0, 0, 0, 0, 0, 1, 1, 0, 0, 0, 0, 0, 0, 1, 0, 2, 0, 0, 1, 0, 2,\n",
       "       1, 0, 0, 1, 0, 0, 0, 0, 2, 0, 1, 1, 0, 1, 1, 1, 0, 1, 0, 0, 0, 1,\n",
       "       0, 0, 0, 0, 1, 0, 0, 1, 0, 1, 0, 0, 0, 1, 0, 0, 1, 1, 0, 0, 1, 0,\n",
       "       0, 0, 0, 0, 0, 0, 0, 0, 0, 0, 0, 0, 1, 1, 0, 0, 1, 0, 1, 0, 1, 0,\n",
       "       0, 0, 0, 1, 1, 1, 0, 0, 0, 0, 0, 1, 1, 0, 1, 0, 1, 0, 1, 0, 0, 1,\n",
       "       1, 2, 1, 1, 0, 0, 0, 1, 0, 0, 1, 0, 0, 0, 0, 0, 0, 1, 0, 1, 0, 0,\n",
       "       0, 0, 0, 1, 1, 0, 0, 1, 1, 0, 0, 0, 0, 2, 2, 1, 2, 1, 1, 0, 0, 1,\n",
       "       0, 1, 0, 2, 0, 1, 1, 0, 0, 0, 1, 0, 0, 1, 1, 0, 0, 0, 0, 0, 1, 1,\n",
       "       1, 1, 0, 1, 0, 1, 0, 0, 0, 0, 1, 0, 1, 0, 0, 0, 1, 1, 0, 2, 0, 0])"
      ]
     },
     "execution_count": 48,
     "metadata": {},
     "output_type": "execute_result"
    }
   ],
   "execution_count": 48
  },
  {
   "metadata": {
    "ExecuteTime": {
     "end_time": "2024-11-19T15:33:29.192662Z",
     "start_time": "2024-11-19T15:33:24.577474Z"
    }
   },
   "cell_type": "code",
   "source": [
    "# Tune hidden layer size\n",
    "for i in range (3,16):\n",
    "    mlp = MLPClassifier(hidden_layer_sizes=(i),max_iter=1000, random_state=0)\n",
    "    model = mlp.fit(X_train_std,y_train)\n",
    "    y_test_pred = model.predict(X_test_std)\n",
    "    print(i,':' ,accuracy_score(y_test, y_test_pred))"
   ],
   "id": "2ed32edae635ff83",
   "outputs": [
    {
     "name": "stdout",
     "output_type": "stream",
     "text": [
      "3 : 0.8545454545454545\n",
      "4 : 0.8545454545454545\n",
      "5 : 0.8606060606060606\n",
      "6 : 0.8606060606060606\n",
      "7 : 0.8606060606060606\n",
      "8 : 0.8606060606060606\n",
      "9 : 0.8545454545454545\n",
      "10 : 0.8606060606060606\n",
      "11 : 0.8606060606060606\n",
      "12 : 0.8606060606060606\n",
      "13 : 0.8606060606060606\n",
      "14 : 0.8606060606060606\n",
      "15 : 0.8606060606060606\n"
     ]
    }
   ],
   "execution_count": 49
  }
 ],
 "metadata": {
  "kernelspec": {
   "display_name": "Python 3",
   "language": "python",
   "name": "python3"
  },
  "language_info": {
   "codemirror_mode": {
    "name": "ipython",
    "version": 2
   },
   "file_extension": ".py",
   "mimetype": "text/x-python",
   "name": "python",
   "nbconvert_exporter": "python",
   "pygments_lexer": "ipython2",
   "version": "2.7.6"
  }
 },
 "nbformat": 4,
 "nbformat_minor": 5
}
