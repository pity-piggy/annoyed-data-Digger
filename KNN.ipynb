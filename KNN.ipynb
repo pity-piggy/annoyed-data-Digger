{
 "cells": [
  {
   "metadata": {},
   "cell_type": "markdown",
   "source": [
    "zIn this KNN model, the goal is to predict if a new patient's cancer result(0/1 in the class category) with 9 variables. \n",
    "\n",
    "we seperate training and test data just for cross validation"
   ],
   "id": "3ac8cddfd51c0b88"
  },
  {
   "metadata": {
    "ExecuteTime": {
     "end_time": "2024-11-18T19:11:13.875714Z",
     "start_time": "2024-11-18T19:11:13.798279Z"
    }
   },
   "cell_type": "code",
   "source": [
    "# before building the model\n",
    "import pandas as pd \n",
    "df=pd.read_csv('/Users/hexiaoyu/Desktop/Courses/INSY- DATA MINING/cancer.csv')\n",
    "df"
   ],
   "id": "bd4aa0e8ca2ffb87",
   "outputs": [
    {
     "data": {
      "text/plain": [
       "     clump_thickness  cell_shape_uniformity  cell_size_uniformity  \\\n",
       "0                  5                      1                     1   \n",
       "1                  4                      1                     1   \n",
       "2                  2                      1                     2   \n",
       "3                  2                      1                     1   \n",
       "4                  4                      2                     1   \n",
       "..               ...                    ...                   ...   \n",
       "694                8                     10                    10   \n",
       "695                7                      8                     8   \n",
       "696                5                     10                    10   \n",
       "697                8                      4                     5   \n",
       "698                8                      8                     8   \n",
       "\n",
       "     marginal_adhesion  single_epithelial_cell_size  bare_nuclei  \\\n",
       "0                    1                            2            1   \n",
       "1                    3                            2            1   \n",
       "2                    1                            2            1   \n",
       "3                    1                            2            1   \n",
       "4                    1                            2            1   \n",
       "..                 ...                          ...          ...   \n",
       "694                 10                            6           10   \n",
       "695                  7                            3           10   \n",
       "696                 10                            4           10   \n",
       "697                  1                            2            0   \n",
       "698                  1                            2            0   \n",
       "\n",
       "     bland_chromatin  normal_nucleoli  mitoses  class  \n",
       "0                  3                1        1      0  \n",
       "1                  3                1        1      0  \n",
       "2                  3                1        1      0  \n",
       "3                  1                1        5      0  \n",
       "4                  2                1        1      0  \n",
       "..               ...              ...      ...    ...  \n",
       "694               10               10       10      1  \n",
       "695                7                2        3      1  \n",
       "696                5                6        3      1  \n",
       "697                7                3        1      1  \n",
       "698                6               10        1      1  \n",
       "\n",
       "[699 rows x 10 columns]"
      ],
      "text/html": [
       "<div>\n",
       "<style scoped>\n",
       "    .dataframe tbody tr th:only-of-type {\n",
       "        vertical-align: middle;\n",
       "    }\n",
       "\n",
       "    .dataframe tbody tr th {\n",
       "        vertical-align: top;\n",
       "    }\n",
       "\n",
       "    .dataframe thead th {\n",
       "        text-align: right;\n",
       "    }\n",
       "</style>\n",
       "<table border=\"1\" class=\"dataframe\">\n",
       "  <thead>\n",
       "    <tr style=\"text-align: right;\">\n",
       "      <th></th>\n",
       "      <th>clump_thickness</th>\n",
       "      <th>cell_shape_uniformity</th>\n",
       "      <th>cell_size_uniformity</th>\n",
       "      <th>marginal_adhesion</th>\n",
       "      <th>single_epithelial_cell_size</th>\n",
       "      <th>bare_nuclei</th>\n",
       "      <th>bland_chromatin</th>\n",
       "      <th>normal_nucleoli</th>\n",
       "      <th>mitoses</th>\n",
       "      <th>class</th>\n",
       "    </tr>\n",
       "  </thead>\n",
       "  <tbody>\n",
       "    <tr>\n",
       "      <th>0</th>\n",
       "      <td>5</td>\n",
       "      <td>1</td>\n",
       "      <td>1</td>\n",
       "      <td>1</td>\n",
       "      <td>2</td>\n",
       "      <td>1</td>\n",
       "      <td>3</td>\n",
       "      <td>1</td>\n",
       "      <td>1</td>\n",
       "      <td>0</td>\n",
       "    </tr>\n",
       "    <tr>\n",
       "      <th>1</th>\n",
       "      <td>4</td>\n",
       "      <td>1</td>\n",
       "      <td>1</td>\n",
       "      <td>3</td>\n",
       "      <td>2</td>\n",
       "      <td>1</td>\n",
       "      <td>3</td>\n",
       "      <td>1</td>\n",
       "      <td>1</td>\n",
       "      <td>0</td>\n",
       "    </tr>\n",
       "    <tr>\n",
       "      <th>2</th>\n",
       "      <td>2</td>\n",
       "      <td>1</td>\n",
       "      <td>2</td>\n",
       "      <td>1</td>\n",
       "      <td>2</td>\n",
       "      <td>1</td>\n",
       "      <td>3</td>\n",
       "      <td>1</td>\n",
       "      <td>1</td>\n",
       "      <td>0</td>\n",
       "    </tr>\n",
       "    <tr>\n",
       "      <th>3</th>\n",
       "      <td>2</td>\n",
       "      <td>1</td>\n",
       "      <td>1</td>\n",
       "      <td>1</td>\n",
       "      <td>2</td>\n",
       "      <td>1</td>\n",
       "      <td>1</td>\n",
       "      <td>1</td>\n",
       "      <td>5</td>\n",
       "      <td>0</td>\n",
       "    </tr>\n",
       "    <tr>\n",
       "      <th>4</th>\n",
       "      <td>4</td>\n",
       "      <td>2</td>\n",
       "      <td>1</td>\n",
       "      <td>1</td>\n",
       "      <td>2</td>\n",
       "      <td>1</td>\n",
       "      <td>2</td>\n",
       "      <td>1</td>\n",
       "      <td>1</td>\n",
       "      <td>0</td>\n",
       "    </tr>\n",
       "    <tr>\n",
       "      <th>...</th>\n",
       "      <td>...</td>\n",
       "      <td>...</td>\n",
       "      <td>...</td>\n",
       "      <td>...</td>\n",
       "      <td>...</td>\n",
       "      <td>...</td>\n",
       "      <td>...</td>\n",
       "      <td>...</td>\n",
       "      <td>...</td>\n",
       "      <td>...</td>\n",
       "    </tr>\n",
       "    <tr>\n",
       "      <th>694</th>\n",
       "      <td>8</td>\n",
       "      <td>10</td>\n",
       "      <td>10</td>\n",
       "      <td>10</td>\n",
       "      <td>6</td>\n",
       "      <td>10</td>\n",
       "      <td>10</td>\n",
       "      <td>10</td>\n",
       "      <td>10</td>\n",
       "      <td>1</td>\n",
       "    </tr>\n",
       "    <tr>\n",
       "      <th>695</th>\n",
       "      <td>7</td>\n",
       "      <td>8</td>\n",
       "      <td>8</td>\n",
       "      <td>7</td>\n",
       "      <td>3</td>\n",
       "      <td>10</td>\n",
       "      <td>7</td>\n",
       "      <td>2</td>\n",
       "      <td>3</td>\n",
       "      <td>1</td>\n",
       "    </tr>\n",
       "    <tr>\n",
       "      <th>696</th>\n",
       "      <td>5</td>\n",
       "      <td>10</td>\n",
       "      <td>10</td>\n",
       "      <td>10</td>\n",
       "      <td>4</td>\n",
       "      <td>10</td>\n",
       "      <td>5</td>\n",
       "      <td>6</td>\n",
       "      <td>3</td>\n",
       "      <td>1</td>\n",
       "    </tr>\n",
       "    <tr>\n",
       "      <th>697</th>\n",
       "      <td>8</td>\n",
       "      <td>4</td>\n",
       "      <td>5</td>\n",
       "      <td>1</td>\n",
       "      <td>2</td>\n",
       "      <td>0</td>\n",
       "      <td>7</td>\n",
       "      <td>3</td>\n",
       "      <td>1</td>\n",
       "      <td>1</td>\n",
       "    </tr>\n",
       "    <tr>\n",
       "      <th>698</th>\n",
       "      <td>8</td>\n",
       "      <td>8</td>\n",
       "      <td>8</td>\n",
       "      <td>1</td>\n",
       "      <td>2</td>\n",
       "      <td>0</td>\n",
       "      <td>6</td>\n",
       "      <td>10</td>\n",
       "      <td>1</td>\n",
       "      <td>1</td>\n",
       "    </tr>\n",
       "  </tbody>\n",
       "</table>\n",
       "<p>699 rows × 10 columns</p>\n",
       "</div>"
      ]
     },
     "execution_count": 26,
     "metadata": {},
     "output_type": "execute_result"
    }
   ],
   "execution_count": 26
  },
  {
   "metadata": {
    "ExecuteTime": {
     "end_time": "2024-11-18T19:11:13.934174Z",
     "start_time": "2024-11-18T19:11:13.926805Z"
    }
   },
   "cell_type": "code",
   "source": "df=df.dropna()",
   "id": "a6b7e7b726b57299",
   "outputs": [],
   "execution_count": 27
  },
  {
   "metadata": {
    "ExecuteTime": {
     "end_time": "2024-11-18T19:11:14.018110Z",
     "start_time": "2024-11-18T19:11:13.999441Z"
    }
   },
   "cell_type": "code",
   "source": [
    "# construct variables and split data\n",
    "X=df.iloc[:,0:9]\n",
    "y=df['class']\n",
    "from sklearn.model_selection import train_test_split\n",
    "# Split the data\n",
    "from sklearn.model_selection import train_test_split\n",
    "X_train, X_test, y_train, y_test = train_test_split(X, y, test_size=0.3, random_state=5)"
   ],
   "id": "cf8a0463ad26cf14",
   "outputs": [],
   "execution_count": 28
  },
  {
   "metadata": {
    "ExecuteTime": {
     "end_time": "2024-11-18T19:11:14.094818Z",
     "start_time": "2024-11-18T19:11:14.067662Z"
    }
   },
   "cell_type": "code",
   "source": [
    "#standarize data \n",
    "from sklearn.preprocessing import StandardScaler\n",
    "scaler = StandardScaler()\n",
    "scaled_X_train = scaler.fit_transform(X_train)\n",
    "scaled_X_test = scaler.transform(X_test)"
   ],
   "id": "845e9436b4133a82",
   "outputs": [],
   "execution_count": 29
  },
  {
   "metadata": {},
   "cell_type": "markdown",
   "source": "### KNN MODEL BUILDING",
   "id": "9b72a1526e8b6bcf"
  },
  {
   "metadata": {
    "ExecuteTime": {
     "end_time": "2024-11-18T19:11:14.199910Z",
     "start_time": "2024-11-18T19:11:14.148642Z"
    }
   },
   "cell_type": "code",
   "source": [
    "# Build a KNN model with k=3 using Euclidean distance function p=2\n",
    "from sklearn.neighbors import KNeighborsClassifier\n",
    "knn = KNeighborsClassifier(n_neighbors=3,p=2) \n",
    "model = knn.fit(scaled_X_train,y_train)\n",
    "y_test_pred = model.predict(scaled_X_test)\n",
    "y_test_pred"
   ],
   "id": "55bfafb257425592",
   "outputs": [
    {
     "data": {
      "text/plain": [
       "array([0, 1, 0, 1, 1, 1, 0, 0, 0, 0, 0, 0, 1, 0, 1, 0, 1, 0, 0, 1, 0, 0,\n",
       "       0, 0, 0, 1, 0, 1, 0, 1, 1, 0, 0, 0, 1, 1, 0, 0, 0, 0, 0, 0, 0, 0,\n",
       "       0, 0, 0, 1, 1, 1, 0, 1, 0, 1, 0, 0, 1, 0, 0, 0, 0, 1, 1, 0, 0, 0,\n",
       "       1, 0, 1, 0, 0, 1, 1, 0, 0, 0, 0, 0, 0, 0, 0, 0, 1, 1, 1, 0, 0, 0,\n",
       "       0, 1, 0, 0, 0, 0, 1, 0, 1, 1, 0, 0, 0, 0, 1, 1, 0, 0, 1, 0, 0, 0,\n",
       "       0, 0, 0, 0, 0, 0, 1, 1, 1, 0, 1, 0, 0, 1, 1, 0, 0, 0, 0, 0, 0, 1,\n",
       "       0, 1, 1, 0, 1, 1, 0, 1, 0, 1, 0, 1, 1, 0, 0, 0, 0, 1, 0, 0, 0, 0,\n",
       "       1, 1, 0, 1, 0, 0, 0, 0, 0, 1, 1, 0, 1, 1, 1, 1, 0, 0, 1, 0, 0, 1,\n",
       "       0, 1, 0, 0, 1, 0, 1, 0, 0, 1, 0, 0, 0, 0, 0, 0, 1, 1, 1, 1, 0, 0,\n",
       "       1, 1, 0, 1, 0, 1, 0, 0, 1, 0, 1, 1])"
      ]
     },
     "execution_count": 30,
     "metadata": {},
     "output_type": "execute_result"
    }
   ],
   "execution_count": 30
  },
  {
   "metadata": {
    "ExecuteTime": {
     "end_time": "2024-11-18T19:11:14.240951Z",
     "start_time": "2024-11-18T19:11:14.228918Z"
    }
   },
   "cell_type": "code",
   "source": [
    "# Make predictions and evaluate\n",
    "from sklearn.metrics import recall_score\n",
    "recall_knn = recall_score(y_test, y_test_pred)\n",
    "recall_knn"
   ],
   "id": "a2279433b8e67456",
   "outputs": [
    {
     "data": {
      "text/plain": [
       "np.float64(0.9342105263157895)"
      ]
     },
     "execution_count": 31,
     "metadata": {},
     "output_type": "execute_result"
    }
   ],
   "execution_count": 31
  },
  {
   "metadata": {
    "ExecuteTime": {
     "end_time": "2024-11-18T19:11:14.426285Z",
     "start_time": "2024-11-18T19:11:14.266767Z"
    }
   },
   "cell_type": "code",
   "source": [
    "# Finding optimal K\n",
    "for i in range(15, 25):\n",
    "    knn = KNeighborsClassifier(n_neighbors=i)\n",
    "    model = knn.fit(scaled_X_train, y_train)\n",
    "    y_test_pred = model.predict(scaled_X_test)\n",
    "    print(\"Recall score using k-NN with \", i, \" neighbors = \" + str(recall_score(y_test, y_test_pred)))"
   ],
   "id": "ba354e81ca8b9706",
   "outputs": [
    {
     "name": "stdout",
     "output_type": "stream",
     "text": [
      "Recall score using k-NN with  15  neighbors = 0.9210526315789473\n",
      "Recall score using k-NN with  16  neighbors = 0.8947368421052632\n",
      "Recall score using k-NN with  17  neighbors = 0.9342105263157895\n",
      "Recall score using k-NN with  18  neighbors = 0.9078947368421053\n",
      "Recall score using k-NN with  19  neighbors = 0.9473684210526315\n",
      "Recall score using k-NN with  20  neighbors = 0.8947368421052632\n",
      "Recall score using k-NN with  21  neighbors = 0.9210526315789473\n",
      "Recall score using k-NN with  22  neighbors = 0.9078947368421053\n",
      "Recall score using k-NN with  23  neighbors = 0.9210526315789473\n",
      "Recall score using k-NN with  24  neighbors = 0.8947368421052632\n"
     ]
    }
   ],
   "execution_count": 32
  },
  {
   "metadata": {},
   "cell_type": "markdown",
   "source": "### make prediction with new patient data with optimal k",
   "id": "ef820ffdf39b1875"
  },
  {
   "metadata": {
    "ExecuteTime": {
     "end_time": "2024-11-18T19:11:14.454268Z",
     "start_time": "2024-11-18T19:11:14.446667Z"
    }
   },
   "cell_type": "code",
   "source": [
    "# Create a new observation and make prediction on the new observation using the model with optimal k\n",
    "new_obs = [[4,2,1,1,1,8,3,1,1]]\n",
    "scaled_new_obs = scaler.transform(new_obs)\n",
    "knn = KNeighborsClassifier(n_neighbors=19)\n",
    "model = knn.fit(scaled_X_train,y_train)\n",
    "y_new= model.predict(scaled_new_obs)\n",
    "y_new"
   ],
   "id": "6552e13c09563eec",
   "outputs": [
    {
     "name": "stderr",
     "output_type": "stream",
     "text": [
      "/Library/Frameworks/Python.framework/Versions/3.12/lib/python3.12/site-packages/sklearn/base.py:493: UserWarning: X does not have valid feature names, but StandardScaler was fitted with feature names\n",
      "  warnings.warn(\n"
     ]
    },
    {
     "data": {
      "text/plain": [
       "array([0])"
      ]
     },
     "execution_count": 33,
     "metadata": {},
     "output_type": "execute_result"
    }
   ],
   "execution_count": 33
  },
  {
   "metadata": {
    "ExecuteTime": {
     "end_time": "2024-11-18T19:11:14.497376Z",
     "start_time": "2024-11-18T19:11:14.491490Z"
    }
   },
   "cell_type": "code",
   "source": "model.predict_proba(scaled_new_obs)",
   "id": "22ec7e5af2ef5a3d",
   "outputs": [
    {
     "data": {
      "text/plain": [
       "array([[0.89473684, 0.10526316]])"
      ]
     },
     "execution_count": 34,
     "metadata": {},
     "output_type": "execute_result"
    }
   ],
   "execution_count": 34
  },
  {
   "metadata": {},
   "cell_type": "markdown",
   "source": "In conclusion, the model predict that new patient has 89% chance of not having cancer. but still have 11% chance of having cancer",
   "id": "d8e9a26d0f9677d2"
  },
  {
   "metadata": {},
   "cell_type": "markdown",
   "source": [
    "# Comparasion Session\n",
    "\n",
    "conclusion:\n",
    "\n",
    "knn:\n",
    "class 0, recall 0.94 (k=19)\n",
    "\n",
    "classification decision tree: class 1, recall 0.84 (after cross validation) |  wrong? usually happened? any other ways to consider? \n",
    "\n",
    "Random forest: class 0, recall 0.89\n"
   ],
   "id": "f92edaaff8f44694"
  },
  {
   "metadata": {
    "ExecuteTime": {
     "end_time": "2024-11-18T19:11:14.559097Z",
     "start_time": "2024-11-18T19:11:14.549150Z"
    }
   },
   "cell_type": "code",
   "source": [
    "# build a decision tree model to classify the path of getting cancer or not \n",
    "# Build a tree model with 3 layers\n",
    "from sklearn.tree import DecisionTreeClassifier\n",
    "ct = DecisionTreeClassifier(max_depth=3)\n",
    "model_ct = ct.fit(X_train, y_train)\n",
    "ct_test_pred = model_ct.predict(X_test)\n",
    "from sklearn.metrics import recall_score\n",
    "recall_ct = recall_score(y_test, ct_test_pred)\n"
   ],
   "id": "5713dcba197ac3d2",
   "outputs": [],
   "execution_count": 35
  },
  {
   "metadata": {
    "ExecuteTime": {
     "end_time": "2024-11-18T19:11:14.602245Z",
     "start_time": "2024-11-18T19:11:14.596966Z"
    }
   },
   "cell_type": "code",
   "source": "recall_ct",
   "id": "6d621b22892a3f17",
   "outputs": [
    {
     "data": {
      "text/plain": [
       "np.float64(0.9342105263157895)"
      ]
     },
     "execution_count": 36,
     "metadata": {},
     "output_type": "execute_result"
    }
   ],
   "execution_count": 36
  },
  {
   "metadata": {
    "ExecuteTime": {
     "end_time": "2024-11-18T19:11:14.965679Z",
     "start_time": "2024-11-18T19:11:14.657968Z"
    }
   },
   "cell_type": "code",
   "source": [
    "import numpy as np\n",
    "# find the optimal depth of the tree\n",
    "from sklearn.model_selection import cross_validate\n",
    "\n",
    "for i in range (2,21):\n",
    "    model = DecisionTreeClassifier(max_depth=i)\n",
    "    scores = cross_validate(model_ct, X, y, scoring='recall', cv=5)\n",
    "    print(i,':',np.average(scores['test_score']))"
   ],
   "id": "e58c365769e61c51",
   "outputs": [
    {
     "name": "stdout",
     "output_type": "stream",
     "text": [
      "2 : 0.8380102040816325\n",
      "3 : 0.8380102040816325\n",
      "4 : 0.8380102040816325\n",
      "5 : 0.8421768707482993\n",
      "6 : 0.8380102040816325\n",
      "7 : 0.8380102040816325\n",
      "8 : 0.8380102040816325\n",
      "9 : 0.8421768707482993\n",
      "10 : 0.8380102040816325\n",
      "11 : 0.8380102040816325\n",
      "12 : 0.8421768707482993\n",
      "13 : 0.8421768707482993\n",
      "14 : 0.8421768707482993\n",
      "15 : 0.8421768707482993\n",
      "16 : 0.8421768707482993\n",
      "17 : 0.8380102040816325\n",
      "18 : 0.8380102040816325\n",
      "19 : 0.8380102040816325\n",
      "20 : 0.8421768707482993\n"
     ]
    }
   ],
   "execution_count": 37
  },
  {
   "metadata": {
    "ExecuteTime": {
     "end_time": "2024-11-18T19:11:14.983577Z",
     "start_time": "2024-11-18T19:11:14.980425Z"
    }
   },
   "cell_type": "code",
   "source": [
    "#make prediction with max_depth =11 \n",
    "# ct = DecisionTreeClassifier(max_depth=11)\n",
    "# model_ct = ct.fit(X_train, y_train)\n",
    "# ct_test_pred = model_ct.predict(X_test)\n",
    "pred_ct_new=model_ct.predict(new_obs)\n"
   ],
   "id": "be69f3f94897b746",
   "outputs": [
    {
     "name": "stderr",
     "output_type": "stream",
     "text": [
      "/Library/Frameworks/Python.framework/Versions/3.12/lib/python3.12/site-packages/sklearn/base.py:493: UserWarning: X does not have valid feature names, but DecisionTreeClassifier was fitted with feature names\n",
      "  warnings.warn(\n"
     ]
    }
   ],
   "execution_count": 38
  },
  {
   "metadata": {
    "ExecuteTime": {
     "end_time": "2024-11-18T19:11:15.067881Z",
     "start_time": "2024-11-18T19:11:15.064135Z"
    }
   },
   "cell_type": "code",
   "source": "pred_ct_new",
   "id": "a2f75054971f7948",
   "outputs": [
    {
     "data": {
      "text/plain": [
       "array([1])"
      ]
     },
     "execution_count": 39,
     "metadata": {},
     "output_type": "execute_result"
    }
   ],
   "execution_count": 39
  },
  {
   "metadata": {
    "ExecuteTime": {
     "end_time": "2024-11-18T19:11:15.170651Z",
     "start_time": "2024-11-18T19:11:15.167096Z"
    }
   },
   "cell_type": "code",
   "source": [
    "# Display feature importance\n",
    "feature_importance = pd.Series(model_ct.feature_importances_, index=X_train.columns)\n",
    "feature_importance.sort_values(ascending=False, inplace=True)\n",
    "print(feature_importance)"
   ],
   "id": "f6270d5ac6c2f89a",
   "outputs": [
    {
     "name": "stdout",
     "output_type": "stream",
     "text": [
      "cell_shape_uniformity          0.819740\n",
      "bare_nuclei                    0.127105\n",
      "clump_thickness                0.039940\n",
      "single_epithelial_cell_size    0.012910\n",
      "normal_nucleoli                0.000305\n",
      "cell_size_uniformity           0.000000\n",
      "marginal_adhesion              0.000000\n",
      "bland_chromatin                0.000000\n",
      "mitoses                        0.000000\n",
      "dtype: float64\n"
     ]
    }
   ],
   "execution_count": 40
  },
  {
   "metadata": {
    "ExecuteTime": {
     "end_time": "2024-11-18T19:11:15.223116Z",
     "start_time": "2024-11-18T19:11:15.218262Z"
    }
   },
   "cell_type": "code",
   "source": [
    "# inteprting the rules and result \n",
    "from sklearn.tree import export_text\n",
    "tree_rules = export_text(model_ct, feature_names=list(X_train.columns))\n",
    "print(tree_rules)"
   ],
   "id": "bee1d1563d84dbe8",
   "outputs": [
    {
     "name": "stdout",
     "output_type": "stream",
     "text": [
      "|--- cell_shape_uniformity <= 3.50\n",
      "|   |--- bare_nuclei <= 5.50\n",
      "|   |   |--- clump_thickness <= 6.50\n",
      "|   |   |   |--- class: 0\n",
      "|   |   |--- clump_thickness >  6.50\n",
      "|   |   |   |--- class: 1\n",
      "|   |--- bare_nuclei >  5.50\n",
      "|   |   |--- clump_thickness <= 2.00\n",
      "|   |   |   |--- class: 0\n",
      "|   |   |--- clump_thickness >  2.00\n",
      "|   |   |   |--- class: 1\n",
      "|--- cell_shape_uniformity >  3.50\n",
      "|   |--- cell_shape_uniformity <= 4.50\n",
      "|   |   |--- single_epithelial_cell_size <= 6.50\n",
      "|   |   |   |--- class: 1\n",
      "|   |   |--- single_epithelial_cell_size >  6.50\n",
      "|   |   |   |--- class: 0\n",
      "|   |--- cell_shape_uniformity >  4.50\n",
      "|   |   |--- normal_nucleoli <= 2.50\n",
      "|   |   |   |--- class: 1\n",
      "|   |   |--- normal_nucleoli >  2.50\n",
      "|   |   |   |--- class: 1\n",
      "\n"
     ]
    }
   ],
   "execution_count": 41
  },
  {
   "metadata": {},
   "cell_type": "markdown",
   "source": "## Random forest",
   "id": "e402c5d43c3eb2de"
  },
  {
   "metadata": {
    "ExecuteTime": {
     "end_time": "2024-11-18T19:11:15.351774Z",
     "start_time": "2024-11-18T19:11:15.249267Z"
    }
   },
   "cell_type": "code",
   "source": [
    "# random forest \n",
    "from sklearn.ensemble import RandomForestClassifier\n",
    "\n",
    "rf = RandomForestClassifier(random_state=0)\n",
    "model_rf= rf.fit(X_train, y_train)\n",
    "y_test_pred= model_rf.predict(X_test)\n",
    "recall_rf= recall_score(y_test, y_test_pred)\n",
    "recall_rf"
   ],
   "id": "6a858ddbecb52ef6",
   "outputs": [
    {
     "data": {
      "text/plain": [
       "np.float64(0.9736842105263158)"
      ]
     },
     "execution_count": 42,
     "metadata": {},
     "output_type": "execute_result"
    }
   ],
   "execution_count": 42
  },
  {
   "metadata": {
    "ExecuteTime": {
     "end_time": "2024-11-18T19:11:15.577373Z",
     "start_time": "2024-11-18T19:11:15.368860Z"
    }
   },
   "cell_type": "code",
   "source": "pd.Series(model_rf.feature_importances_,index = X.columns).sort_values(ascending = False).plot(kind = 'bar', figsize = (14,6))  \n",
   "id": "439fad536b24a9fb",
   "outputs": [
    {
     "data": {
      "text/plain": [
       "<Axes: >"
      ]
     },
     "execution_count": 43,
     "metadata": {},
     "output_type": "execute_result"
    },
    {
     "data": {
      "text/plain": [
       "<Figure size 1400x600 with 1 Axes>"
      ],
      "image/png": "[encoded data removed]"
     },
     "metadata": {},
     "output_type": "display_data"
    }
   ],
   "execution_count": 43
  },
  {
   "metadata": {
    "ExecuteTime": {
     "end_time": "2024-11-18T19:11:18.716401Z",
     "start_time": "2024-11-18T19:11:15.599855Z"
    }
   },
   "cell_type": "code",
   "source": [
    "for i in range (2,7):                                                                  \n",
    "    model = RandomForestClassifier(random_state=0,max_features=i)\n",
    "    scores = cross_validate(model, X, y, scoring='precision',cv=5)\n",
    "    print(i,':',np.average(scores['test_score']))"
   ],
   "id": "ada62dc14371820d",
   "outputs": [
    {
     "name": "stdout",
     "output_type": "stream",
     "text": [
      "2 : 0.9033197139938715\n",
      "3 : 0.8964241060265067\n",
      "4 : 0.8839173405211141\n",
      "5 : 0.8839173405211141\n",
      "6 : 0.8840280824923212\n"
     ]
    }
   ],
   "execution_count": 44
  },
  {
   "metadata": {
    "ExecuteTime": {
     "end_time": "2024-11-18T19:11:18.759310Z",
     "start_time": "2024-11-18T19:11:18.751903Z"
    }
   },
   "cell_type": "code",
   "source": [
    "rf = RandomForestClassifier(random_state=0,max_features=3)\n",
    "\n",
    "y_pred_rf = model_rf.predict(new_obs)\n",
    "print(y_pred_rf)"
   ],
   "id": "c51196601bd07ef7",
   "outputs": [
    {
     "name": "stdout",
     "output_type": "stream",
     "text": [
      "[0]\n"
     ]
    },
    {
     "name": "stderr",
     "output_type": "stream",
     "text": [
      "/Library/Frameworks/Python.framework/Versions/3.12/lib/python3.12/site-packages/sklearn/base.py:493: UserWarning: X does not have valid feature names, but RandomForestClassifier was fitted with feature names\n",
      "  warnings.warn(\n"
     ]
    }
   ],
   "execution_count": 45
  },
  {
   "metadata": {
    "ExecuteTime": {
     "end_time": "2024-11-18T19:11:18.900451Z",
     "start_time": "2024-11-18T19:11:18.898684Z"
    }
   },
   "cell_type": "code",
   "source": "",
   "id": "8c097489420af2d2",
   "outputs": [],
   "execution_count": null
  },
  {
   "metadata": {
    "ExecuteTime": {
     "end_time": "2024-11-18T19:11:18.925595Z",
     "start_time": "2024-11-18T19:11:18.923730Z"
    }
   },
   "cell_type": "code",
   "source": "",
   "id": "8996cd54015ecd30",
   "outputs": [],
   "execution_count": null
  }
 ],
 "metadata": {
  "kernelspec": {
   "display_name": "Python 3",
   "language": "python",
   "name": "python3"
  },
  "language_info": {
   "codemirror_mode": {
    "name": "ipython",
    "version": 2
   },
   "file_extension": ".py",
   "mimetype": "text/x-python",
   "name": "python",
   "nbconvert_exporter": "python",
   "pygments_lexer": "ipython2",
   "version": "2.7.6"
  }
 },
 "nbformat": 4,
 "nbformat_minor": 5
}
